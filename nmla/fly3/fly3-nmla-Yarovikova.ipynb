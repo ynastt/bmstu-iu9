{
  "cells": [
    {
      "cell_type": "markdown",
      "metadata": {
        "id": "Fujv3cPG-F6J"
      },
      "source": [
        "летучка 3"
      ]
    },
    {
      "cell_type": "code",
      "execution_count": null,
      "metadata": {
        "colab": {
          "base_uri": "https://localhost:8080/"
        },
        "id": "LSBl1U8p-EJ9",
        "outputId": "4e19dd37-8381-4664-8fac-3dc6ab6a885d"
      },
      "outputs": [
        {
          "name": "stdout",
          "output_type": "stream",
          "text": [
            "I_12 = 9.000005398718258e-07\n",
            "I_12' = 9.000005398718258 A\n",
            "I_12'' = 9.000005398718258e-07 A\n",
            "I_12''' = 9.000005398718258e-07 A\n",
            "I_23 = 8.99999909999946e-06 A\n",
            "I_23' = 8.99999909999946 A\n"
          ]
        }
      ],
      "source": [
        "import numpy as np\n",
        "from copy import deepcopy\n",
        "\n",
        "ksi = 9.0\n",
        "\n",
        "R_12 = 1\n",
        "R_12_ = 0.0000001\n",
        "R_12__ = 1\n",
        "R_12___ = 1\n",
        "R_23 = 1000000\n",
        "R_23_ = 1\n",
        "\n",
        "a = [[0.0, 0.0, 1.0],\n",
        "     [1.0, 0.0, -1.0],\n",
        "     [(1/R_12 + 1/R_12_ + 1/R_12__ + 1/R_12___), (-1/R_12 - 1/R_12_ - 1/R_12__ - 1/R_12___ - 1/R_23 - 1/R_23_), (1/R_23 + 1/R_23_)]]\n",
        "f = np.array([0.0, ksi, 0.0])\n",
        "\n",
        "x = np.linalg.solve(a, f)\n",
        "# print(f'phi: {x}')\n",
        "\n",
        "U_12 = x[0]-x[1]\n",
        "U_23 = x[1] - x[2]\n",
        "# print(f'U_12: {U_12}')\n",
        "# print(f'U_23: {U_23}\\n\\n')\n",
        "\n",
        "# print(f'I_12 = {U_12/R_12:.1f}')\n",
        "\n",
        "print(f'I_12 = {U_12/R_12}')\n",
        "print(f'I_12\\' = {U_12/R_12_} A')\n",
        "print(f'I_12\\'\\' = {U_12/R_12__} A')\n",
        "print(f'I_12\\'\\'\\' = {U_12/R_12___} A')\n",
        "print(f'I_23 = {U_23/R_23} A')\n",
        "print(f'I_23\\' = {U_23/R_23_} A')"
      ]
    }
  ],
  "metadata": {
    "colab": {
      "provenance": []
    },
    "kernelspec": {
      "display_name": "Python 3",
      "name": "python3"
    },
    "language_info": {
      "name": "python"
    }
  },
  "nbformat": 4,
  "nbformat_minor": 0
}
