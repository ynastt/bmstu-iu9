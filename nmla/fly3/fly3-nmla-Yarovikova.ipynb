import numpy as np
from copy import deepcopy

ksi = 9.0

R_12 = 1
R_12_ = 0.0000001
R_12__ = 1
R_12___ = 1
R_23 = 1000000
R_23_ = 1

a = [[0.0, 0.0, 1.0],
     [1.0, 0.0, -1.0],
     [(1/R_12 + 1/R_12_ + 1/R_12__ + 1/R_12___), (-1/R_12 - 1/R_12_ - 1/R_12__ - 1/R_12___ - 1/R_23 - 1/R_23_), (1/R_23 + 1/R_23_)]]
f = np.array([0.0, ksi, 0.0])

x = np.linalg.solve(a, f)
# print(f'phi: {x}')

U_12 = x[0]-x[1]
U_23 = x[1] - x[2]
# print(f'U_12: {U_12}')
# print(f'U_23: {U_23}\n\n')

# print(f'I_12 = {U_12/R_12:.1f}')

print(f'I_12 = {U_12/R_12}')
print(f'I_12\' = {U_12/R_12_} A')
print(f'I_12\'\' = {U_12/R_12__} A')
print(f'I_12\'\'\' = {U_12/R_12___} A')
print(f'I_23 = {U_23/R_23} A')
print(f'I_23\' = {U_23/R_23_} A')
