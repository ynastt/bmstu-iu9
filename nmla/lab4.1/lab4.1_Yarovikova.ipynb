{
  "nbformat": 4,
  "nbformat_minor": 0,
  "metadata": {
    "colab": {
      "provenance": []
    },
    "kernelspec": {
      "name": "python3",
      "display_name": "Python 3"
    },
    "language_info": {
      "name": "python"
    }
  },
  "cells": [
    {
      "cell_type": "code",
      "source": [
        "def trace_2(mat):\n",
        "  return mat[0][0] + mat[1][1]\n",
        "\n",
        "def det_2(mat):\n",
        "  return mat[0][0] * mat[1][1] - mat[0][1] * mat[1][0]\n",
        "\n",
        "def calc_own_numbers_2(mat):\n",
        "  n = len(mat)\n",
        "  lamb = [0] * n\n",
        "  trace = trace_2(mat)\n",
        "  det = det_2(mat)\n",
        "  # Расчет собственных значений\n",
        "  discr = trace**2 - 4 * det\n",
        "  if discr > 0:\n",
        "    lamb[0] = (trace + discr**0.5) / 2\n",
        "    lamb[1] = (trace - discr**0.5) / 2\n",
        "  elif discr == 0:\n",
        "    lamb[0] = lamb[1] = trace / 2\n",
        "  return lamb\n",
        "\n",
        "def trace_3(mat):\n",
        "  return mat[0][0] + mat[1][1] + mat[2][2]\n",
        "\n",
        "def det_3(mat):\n",
        "  det = mat[0][0] * (mat[1][1] * mat[2][2] - mat[1][2] * mat[2][1]) - \\\n",
        "        mat[0][1] * (mat[1][0] * mat[2][2] - mat[1][2] * mat[2][0]) + \\\n",
        "        mat[0][2] * (mat[1][0] * mat[2][1] - mat[1][1] * mat[2][0])\n",
        "  return det\n",
        "\n",
        "# Вычисление характеристического полинома\n",
        "def cub_coeff(mat):\n",
        "  tr = trace_3(mat)\n",
        "  a3 = 1\n",
        "  a2 = -tr\n",
        "  a1 = 1/2 * (tr**2 - (mat[0][0] + mat[1][0] + mat[2][0])**2 - \\\n",
        "      (mat[0][1]**2 + mat[1][1]**2 + mat[2][1]**2 + mat[0][2]**2 + mat[1][2]**2 + mat[2][2]**2))\n",
        "  a0 = - det_3(mat)\n",
        "  return a0, a1, a2, a3\n",
        "\n",
        "from sympy import symbols, solve, Eq\n",
        "\n",
        "def calc_own_numbers_3(mat):\n",
        "  n = len(mat)\n",
        "  lamb = [] * n\n",
        "  a0, a1, a2, a3 = cub_coeff(mat)\n",
        "  x = symbols('x')\n",
        "  eq = Eq(a3*x**3 + a2*x**2 + a1*x + a0, 0)\n",
        "  lamb = solve(eq, x)\n",
        "  return lamb"
      ],
      "metadata": {
        "id": "uILysIwwA-Fk"
      },
      "execution_count": null,
      "outputs": []
    },
    {
      "cell_type": "code",
      "source": [
        "print(f' Собственные значения матрицы 2х2: {calc_own_numbers_2(a1)}')"
      ],
      "metadata": {
        "colab": {
          "base_uri": "https://localhost:8080/"
        },
        "id": "uol-jwddC_Ya",
        "outputId": "53db4380-dca1-4c47-d9e3-a7cb9a2ede58"
      },
      "execution_count": null,
      "outputs": [
        {
          "output_type": "stream",
          "name": "stdout",
          "text": [
            " Собственные значения матрицы 2х2: [6.65330766503752, -2.351325086168641]\n"
          ]
        }
      ]
    },
    {
      "cell_type": "code",
      "source": [
        "print(f' Собственные значения матрицы 3х3: {calc_own_numbers_3(a2)}')"
      ],
      "metadata": {
        "colab": {
          "base_uri": "https://localhost:8080/"
        },
        "id": "7GpejQZ4EFHL",
        "outputId": "da4ab681-deeb-4ddf-e480-aed73263d535"
      },
      "execution_count": null,
      "outputs": [
        {
          "output_type": "stream",
          "name": "stdout",
          "text": [
            " Собственные значения матрицы 3х3: [-16.5843975590314, -2.89735171813083 - 3.81746913904936*I, -2.89735171813083 + 3.81746913904936*I]\n"
          ]
        }
      ]
    },
    {
      "cell_type": "code",
      "source": [
        "def calc_own_vec_2(mat, lamb):\n",
        "  pass\n",
        "\n",
        "def calc_own_vec_3():\n",
        "  pass"
      ],
      "metadata": {
        "id": "dKp0Scc9JcE3"
      },
      "execution_count": null,
      "outputs": []
    },
    {
      "cell_type": "markdown",
      "source": [
        "ЛАБОРАТОРНАЯ РАБОТА 4.1"
      ],
      "metadata": {
        "id": "uG3bCYmtlJa5"
      }
    },
    {
      "cell_type": "code",
      "source": [
        "import numpy as np\n",
        "from copy import deepcopy\n",
        "import matplotlib.pyplot as plt\n",
        "import sys"
      ],
      "metadata": {
        "id": "ZDAZLGU09OSO"
      },
      "execution_count": 88,
      "outputs": []
    },
    {
      "cell_type": "code",
      "source": [
        "def generate_symmetrical_matrix(l, r, n):\n",
        "    a = np.random.uniform(l, r, (n, n))\n",
        "    a = np.tril(a) + np.tril(a, -1).T\n",
        "    return a"
      ],
      "metadata": {
        "id": "zjez22NuANP6"
      },
      "execution_count": 42,
      "outputs": []
    },
    {
      "cell_type": "code",
      "source": [
        "def euclidean_norm(vec):\n",
        "    res = 0\n",
        "    for el in vec:\n",
        "        res += el**2\n",
        "    return np.sqrt(res)\n",
        "\n",
        "def mul_on_vector(matrix, vector):\n",
        "    res = []\n",
        "    for i in range(len(matrix)):\n",
        "        el = 0\n",
        "        for j in range(len(vector)):\n",
        "            el += matrix[i][j] * vector[j]\n",
        "        res.append(el)\n",
        "    return res\n",
        "\n",
        "def scalar_mul(vec1, vec2):\n",
        "    if len(vec1) < len(vec2):\n",
        "        length = len(vec2)\n",
        "    else:\n",
        "        length = len(vec1)\n",
        "    res = 0\n",
        "    for i in range(0, length):\n",
        "        res += vec1[i] * vec2[i]\n",
        "    return res"
      ],
      "metadata": {
        "id": "itQVhZSX4ljb"
      },
      "execution_count": 91,
      "outputs": []
    },
    {
      "cell_type": "code",
      "source": [
        "def print_matrix(a):\n",
        "    for i in range(len(a)):\n",
        "        print(a[i])"
      ],
      "metadata": {
        "id": "wcwKGSHTAgE7"
      },
      "execution_count": null,
      "outputs": []
    },
    {
      "cell_type": "code",
      "source": [
        "a1 = generate_symmetrical_matrix(-10, 10, 2)\n",
        "a2 = generate_symmetrical_matrix(-10, 10, 3)\n",
        "print('matrix1:')\n",
        "print_matrix(a1)\n",
        "print(len(a1))\n",
        "print('\\nmatrix2:')\n",
        "print_matrix(a2)"
      ],
      "metadata": {
        "colab": {
          "base_uri": "https://localhost:8080/"
        },
        "id": "TDoU0VpzAQ6i",
        "outputId": "8fe3a573-abef-44d0-c060-ff909aed3959"
      },
      "execution_count": null,
      "outputs": [
        {
          "output_type": "stream",
          "name": "stdout",
          "text": [
            "matrix1:\n",
            "[ 5.83639778 -1.52111714]\n",
            "[-1.52111714 -4.43911393]\n",
            "2\n",
            "\n",
            "matrix2:\n",
            "[ 9.35516745 -9.05544479  2.84287239]\n",
            "[-9.05544479  4.28161934 -8.63885405]\n",
            "[ 2.84287239 -8.63885405 -2.46360194]\n"
          ]
        }
      ]
    },
    {
      "cell_type": "markdown",
      "source": [
        "единичная матрица размерности n"
      ],
      "metadata": {
        "id": "QsGnMmRPQtoA"
      }
    },
    {
      "cell_type": "code",
      "source": [
        "def identity_matrix(n):\n",
        "  return np.identity(n)"
      ],
      "metadata": {
        "id": "byEhEOxKQTv6"
      },
      "execution_count": null,
      "outputs": []
    },
    {
      "cell_type": "markdown",
      "source": [
        "Метод Данилевского"
      ],
      "metadata": {
        "id": "_eMNaNk2O8Zv"
      }
    },
    {
      "cell_type": "code",
      "source": [
        "def danilevsky_algo(matrix):\n",
        "    n = len(matrix)\n",
        "    Bs = identity_matrix(n)\n",
        "    D = deepcopy(matrix)\n",
        "\n",
        "    for i in range(n, 1, -1):\n",
        "        B = identity_matrix(n)\n",
        "        # заполняем B\n",
        "        d = D[i - 1][i - 2]\n",
        "        B[i - 2] = - D[i - 1] / d\n",
        "        B[i - 2][i - 2] = 1 / d\n",
        "        # B^(-1)\n",
        "        B_inv = identity_matrix(n)\n",
        "        # B_inv[i - 2] = D[i - 1]\n",
        "        B_inv = np.linalg.inv(np.array(deepcopy(B)))\n",
        "        # процесс получения матрицы P и произведениие B_i\n",
        "        D = np.dot(np.dot(B_inv, D), B)\n",
        "        Bs = np.dot(Bs, B)\n",
        "\n",
        "    return Bs, D"
      ],
      "metadata": {
        "id": "LzuYIOWt85Xn"
      },
      "execution_count": 43,
      "outputs": []
    },
    {
      "cell_type": "markdown",
      "source": [
        "Вычисление кругов (интервалов Гершгорина)"
      ],
      "metadata": {
        "id": "oJNhh1She0gL"
      }
    },
    {
      "cell_type": "code",
      "source": [
        "def union_intervals(ints):\n",
        "  union = []\n",
        "  for start, end in sorted(ints):\n",
        "    if union and union[-1][1] >= start - 1:\n",
        "      union[-1][1] = max(union[-1][1], end)\n",
        "    else:\n",
        "      union.append([start, end])\n",
        "  return union"
      ],
      "metadata": {
        "id": "WN17oSeDylQP"
      },
      "execution_count": null,
      "outputs": []
    },
    {
      "cell_type": "code",
      "source": [
        "def find_gershgorin_intervals(matrix):\n",
        "  A = deepcopy(matrix)\n",
        "  # центры\n",
        "  centers = np.diagonal(A)\n",
        "  n = len(centers)\n",
        "  # радиусы\n",
        "  rads = []\n",
        "  for i in range(n):\n",
        "    rads.append(np.sum(np.abs(A[i])) - centers[i])\n",
        "  # print()\n",
        "  # print(rads)\n",
        "  intervals = [ (centers[i] - rads[i], centers[i] + rads[i]) for i in range(n)]\n",
        "  # print(intervals)\n",
        "  intervals = union_intervals(deepcopy(intervals))\n",
        "  return intervals"
      ],
      "metadata": {
        "id": "m7to1C7Ye5F5"
      },
      "execution_count": null,
      "outputs": []
    },
    {
      "cell_type": "markdown",
      "source": [
        "поиск собственных значений и векторов матрицы"
      ],
      "metadata": {
        "id": "hOXKJgA6216i"
      }
    },
    {
      "cell_type": "code",
      "source": [
        "def polynomy(a, x):\n",
        "  # a[0]*x**(N-1) + a[1]*x**(N-2) + ... + a[N-2]*x + a[N-1]\n",
        "  val = 0\n",
        "  n = len(a)\n",
        "  for i in range(n-1, -1, -1):\n",
        "    val += a[n - 1 - i] * x**i\n",
        "  return val"
      ],
      "metadata": {
        "id": "hwoY9rVLA6c4"
      },
      "execution_count": 57,
      "outputs": []
    },
    {
      "cell_type": "code",
      "source": [
        "def find_eigen_values(eqCoeffs, intervals, len):\n",
        "  # print(intervals)\n",
        "  values = []\n",
        "  len2 = 10e-7\n",
        "  for interval in intervals:\n",
        "    left = interval[0]\n",
        "    right = interval[1]\n",
        "    # print(left, right)\n",
        "    l = int(np.floor((right - left) / len))\n",
        "    # print(l)\n",
        "    for i in range(l):\n",
        "      x_left = left + i * len\n",
        "      x_right = x_left + len\n",
        "      # print(f'left x: {x_left}')\n",
        "      # print(f'right x: {x_right}')\n",
        "      y_left = polynomy(eqCoeffs, x_left)\n",
        "      y_right = polynomy(eqCoeffs, x_right)\n",
        "      # print(f'left y: {y_left}')\n",
        "      # print(f'right y: {y_right}')\n",
        "      alpha = y_left * y_right\n",
        "      # print(alpha)\n",
        "      if (alpha < 0):\n",
        "        while x_right - x_left >= len2:\n",
        "          x_middle = (x_right + x_left) / 2\n",
        "          y_middle = polynomy(eqCoeffs, x_middle)\n",
        "          beta = y_left * y_middle\n",
        "          if beta < 0:\n",
        "            x_right = x_middle\n",
        "          else:\n",
        "            x_left = x_middle\n",
        "        values.append((x_right + x_left) / 2)\n",
        "      elif y_left == 0:\n",
        "        values.append(x_left)\n",
        "      elif y_right == 0:\n",
        "        values.append(x_right)\n",
        "  return values\n",
        "\n",
        "def find_eigen_vectors(lambdas, B):\n",
        "  n = len(B)\n",
        "  m = len(lambdas)\n",
        "  ys = [[0 for _ in range(n)] for _ in range(m)]\n",
        "  for i in range(0, m):\n",
        "    for j in range(n-1, -1, -1):\n",
        "      ys[i][n - 1 - j] = lambdas[i] ** j\n",
        "  # собственные вектора\n",
        "  xs = [0 for _ in range(len(ys))]\n",
        "  for i in range(len(ys)):\n",
        "    xs[i] = mul_on_vector(B, ys[i])\n",
        "    # нормализация\n",
        "    xs[i] = xs[i] / euclidean_norm(xs[i])\n",
        "\n",
        "  return xs\n"
      ],
      "metadata": {
        "id": "4kM3k2829jkA"
      },
      "execution_count": 76,
      "outputs": []
    },
    {
      "cell_type": "code",
      "execution_count": 85,
      "metadata": {
        "id": "WaRo_R5w9BCn"
      },
      "outputs": [],
      "source": [
        "def show_chart(eigenvalues, equatationCoeffs):\n",
        "    left = eigenvalues[0]\n",
        "    right = eigenvalues[1]\n",
        "\n",
        "    for i in range(1, len(eigenvalues)):\n",
        "        if eigenvalues[i] < left:\n",
        "            left = eigenvalues[i]\n",
        "        if eigenvalues[i] > right:\n",
        "            right = eigenvalues[i]\n",
        "\n",
        "    interval_len = right - left\n",
        "    left -= interval_len * 0.1\n",
        "    right += interval_len * 0.1\n",
        "    xs = np.linspace(left, right, 1000)\n",
        "    ys = []\n",
        "    for x in xs:\n",
        "      ys.append(polynomy(equatationCoeffs, x))\n",
        "\n",
        "    plt.plot(xs, ys, color='purple')\n",
        "    plt.yscale(\"symlog\")\n",
        "    plt.grid()\n",
        "    plt.show()\n"
      ]
    },
    {
      "cell_type": "code",
      "source": [
        "n = 4\n",
        "a = np.array([[2.2, 1, 0.5, 2],\n",
        "             [1, 1.3, 2, 1],\n",
        "             [0.5, 2, 0.5, 1.6],\n",
        "             [2, 1, 1.6, 2]])\n",
        "print('matrix:')\n",
        "print_matrix(a)\n",
        "intervals = find_gershgorin_intervals(a)\n",
        "print(f'\\nU intervals: {intervals}')\n",
        "# B = B_1 * B_2 * ... B_(n-1)\n",
        "# P = B_(n-1)^(-1)*...B_1^(-1) * A * B_1 * ... B_(n-1)\n",
        "B, P = danilevsky_algo(a)\n",
        "print(f'\\np:\\n {P}')\n",
        "print()\n",
        "print(f'B:\\n {B}')\n",
        "equatationCoeffs = list(map(lambda num: num * (-1), P[0]))\n",
        "equatationCoeffs = np.insert(equatationCoeffs, 0, 1)\n",
        "print(f'\\nequatation coeffs: {equatationCoeffs}')\n",
        "\n",
        "# собтвенные значения\n",
        "vals = find_eigen_values(equatationCoeffs, intervals, 10e-3)\n",
        "print(f'\\nlambdas: {vals}')\n",
        "\n",
        "# проверка вычисленных сосбвтенных значений по теореме Виета\n",
        "sum_eigens = np.sum(vals)\n",
        "sp = [sum(a[i][i] for i in range(0, len(a)))]\n",
        "# print(sum_eigens)\n",
        "# print(sp)\n",
        "if (np.abs(sum_eigens - sp) > 0.1):\n",
        "  print(\"\\nVieta`s theorem doesn`t work\")\n",
        "else:\n",
        "  print(\"\\nVieta`s theorem works\")\n",
        "\n",
        "# проверка условий теоремы Гершгорина\n",
        "ok = 0\n",
        "for interval in intervals:\n",
        "  for i in vals:\n",
        "    if i > interval[1] or i < interval[0]:\n",
        "      print(\"\\nGershgorin`s theorem error\")\n",
        "      ok = 0\n",
        "      sys.exit()\n",
        "    else:\n",
        "      ok = 1\n",
        "if ok == 1:\n",
        "  print(\"\\nGershgorin`s theorem works\")\n",
        "\n",
        "#  строим график\n",
        "show_chart(vals, equatationCoeffs)\n",
        "\n",
        "# собтвенные вектора\n",
        "vecs = find_eigen_vectors(vals, B)\n",
        "print('\\neigin vectors:')\n",
        "for i in range(len(vecs)):\n",
        "  print(f' x_{i+1}: {vecs[i]}')\n",
        "\n",
        "# проверка условия ортогональности собственных векторов\n",
        "ort = 0\n",
        "for i in range (n - 1):\n",
        "  for j in range (i + 1, n):\n",
        "    scal = scalar_mul(vecs[i], vecs[j])\n",
        "    if np.abs(scal) > 0.1:\n",
        "      print(\"\\nEigen vectors are not orthogonal\")\n",
        "      print(np.abs(scal))\n",
        "      ort = 0\n",
        "      sys.exit()\n",
        "    else:\n",
        "      ort = 1\n",
        "\n",
        "if ort == 1:\n",
        "  print(\"\\nEigen vectors are orthogonal\")"
      ],
      "metadata": {
        "colab": {
          "base_uri": "https://localhost:8080/",
          "height": 1000
        },
        "id": "RHYO9-2c27CQ",
        "outputId": "46b4f491-09b0-4c1e-b59f-b5394cca2121"
      },
      "execution_count": 98,
      "outputs": [
        {
          "output_type": "stream",
          "name": "stdout",
          "text": [
            "matrix:\n",
            "[2.2 1.  0.5 2. ]\n",
            "[1.  1.3 2.  1. ]\n",
            "[0.5 2.  0.5 1.6]\n",
            "[2.  1.  1.6 2. ]\n",
            "\n",
            "U intervals: [[-3.5999999999999996, 6.6]]\n",
            "\n",
            "p:\n",
            " [[ 6.00000000e+00  2.00000000e-01 -1.27350000e+01  2.76160000e+00]\n",
            " [ 1.00000000e+00  8.88178420e-16  0.00000000e+00  0.00000000e+00]\n",
            " [-6.41500207e-18  1.00000000e+00  4.58244981e-17 -3.21605437e-17]\n",
            " [ 2.11500674e-17 -1.12157563e-16  1.00000000e+00  1.43847207e-16]]\n",
            "\n",
            "B:\n",
            " [[-0.23112481  1.07858243  1.65100154 -1.1587057 ]\n",
            " [ 0.08124387 -0.13671383 -1.64095812 -0.27390951]\n",
            " [ 0.23812859 -1.2627819  -0.4131531   0.36957557]\n",
            " [ 0.          0.          0.          1.        ]]\n",
            "\n",
            "equatation coeffs: [ 1.     -6.     -0.2    12.735  -2.7616]\n",
            "\n",
            "lambdas: [-1.4200863647460937, 0.22263580322265686, 1.5454183959960939, 5.652032165527345]\n",
            "\n",
            "Vieta`s theorem works\n",
            "\n",
            "Gershgorin`s theorem works\n"
          ]
        },
        {
          "output_type": "display_data",
          "data": {
            "text/plain": [
              "<Figure size 640x480 with 1 Axes>"
            ],
            "image/png": "[encoded data removed]"
          },
          "metadata": {}
        },
        {
          "output_type": "stream",
          "name": "stdout",
          "text": [
            "\n",
            "eigin vectors:\n",
            " x_1: [-0.22204311  0.51591039 -0.75727407  0.33327063]\n",
            " x_2: [-0.52192073 -0.45486916  0.15344709  0.70508637]\n",
            " x_3: [ 0.62892977 -0.57257421 -0.4856538   0.20185761]\n",
            " x_4: [0.53173694 0.44619371 0.40881477 0.59248416]\n",
            "\n",
            "Eigen vectors are orthogonal\n"
          ]
        }
      ]
    },
    {
      "cell_type": "markdown",
      "source": [
        "test 2"
      ],
      "metadata": {
        "id": "NmDsV-dfZr2W"
      }
    },
    {
      "cell_type": "code",
      "source": [
        "n = 100\n",
        "a = generate_symmetrical_matrix(-10, 10, 100)\n",
        "# print('matrix:')\n",
        "# print_matrix(a)\n",
        "intervals = find_gershgorin_intervals(a)\n",
        "# print(f'\\nU intervals: {intervals}')\n",
        "# B = B_1 * B_2 * ... B_(n-1)\n",
        "# P = B_(n-1)^(-1)*...B_1^(-1) * A * B_1 * ... B_(n-1)\n",
        "B, P = danilevsky_algo(a)\n",
        "# print(f'\\np:\\n {P}')\n",
        "# print()\n",
        "# print(f'B:\\n {B}')\n",
        "equatationCoeffs = list(map(lambda num: num * (-1), P[0]))\n",
        "equatationCoeffs = np.insert(equatationCoeffs, 0, 1)\n",
        "# print(f'\\nequatation coeffs: {equatationCoeffs}')\n",
        "\n",
        "# собтвенные значения\n",
        "vals = find_eigen_values(equatationCoeffs, intervals, 10e-3)\n",
        "# print(f'\\nlambdas: {vals}')\n",
        "\n",
        "# проверка вычисленных сосбвтенных значений по теореме Виета\n",
        "sum_eigens = np.sum(vals)\n",
        "sp = [sum(a[i][i] for i in range(0, len(a)))]\n",
        "# print(sum_eigens)\n",
        "# print(sp)\n",
        "if (np.abs(sum_eigens - sp) > 0.1):\n",
        "  print(\"\\nVieta`s theorem doesn`t work\")\n",
        "else:\n",
        "  print(\"\\nVieta`s theorem works\")\n",
        "\n",
        "# проверка условий теоремы Гершгорина\n",
        "ok = 0\n",
        "for interval in intervals:\n",
        "  for i in vals:\n",
        "    if i > interval[1] or i < interval[0]:\n",
        "      print(\"\\nGershgorin`s theorem error\")\n",
        "      ok = 0\n",
        "      sys.exit()\n",
        "    else:\n",
        "      ok = 1\n",
        "if ok == 1:\n",
        "  print(\"\\nGershgorin`s theorem works\")\n",
        "\n",
        "#  строим график\n",
        "show_chart(vals, equatationCoeffs)\n",
        "\n",
        "# собтвенные вектора\n",
        "vecs = find_eigen_vectors(vals, B)\n",
        "# print('\\neigin vectors:')\n",
        "# for i in range(len(vecs)):\n",
        "#   print(f' x_{i+1}: {vecs[i]}')\n",
        "\n",
        "# проверка условия ортогональности собственных векторов\n",
        "ort = 0\n",
        "for i in range (n - 1):\n",
        "  for j in range (i + 1, n):\n",
        "    scal = scalar_mul(vecs[i], vecs[j])\n",
        "    if np.abs(scal) > 0.1:\n",
        "      print(\"\\nEigen vectors are not orthogonal\")\n",
        "      print(np.abs(scal))\n",
        "      ort = 0\n",
        "      sys.exit()\n",
        "    else:\n",
        "      ort = 1\n",
        "\n",
        "if ort == 1:\n",
        "  print(\"\\nEigen vectors are orthogonal\")"
      ],
      "metadata": {
        "colab": {
          "base_uri": "https://localhost:8080/",
          "height": 727
        },
        "id": "GAMiF17WZtEt",
        "outputId": "90c84289-0a3c-45f5-94c2-75e40feb9610"
      },
      "execution_count": 100,
      "outputs": [
        {
          "output_type": "stream",
          "name": "stderr",
          "text": [
            "<ipython-input-76-957dddff0d43>:20: RuntimeWarning: overflow encountered in double_scalars\n",
            "  alpha = y_left * y_right\n",
            "<ipython-input-76-957dddff0d43>:26: RuntimeWarning: overflow encountered in double_scalars\n",
            "  beta = y_left * y_middle\n"
          ]
        },
        {
          "output_type": "stream",
          "name": "stdout",
          "text": [
            "\n",
            "Vieta`s theorem doesn`t work\n",
            "\n",
            "Gershgorin`s theorem works\n"
          ]
        },
        {
          "output_type": "display_data",
          "data": {
            "text/plain": [
              "<Figure size 640x480 with 1 Axes>"
            ],
            "image/png": "[encoded data removed]"
          },
          "metadata": {}
        },
        {
          "output_type": "stream",
          "name": "stdout",
          "text": [
            "\n",
            "Eigen vectors are not orthogonal\n",
            "0.35509084200047425\n"
          ]
        },
        {
          "output_type": "error",
          "ename": "SystemExit",
          "evalue": "ignored",
          "traceback": [
            "An exception has occurred, use %tb to see the full traceback.\n",
            "\u001b[0;31mSystemExit\u001b[0m\n"
          ]
        }
      ]
    }
  ]
}