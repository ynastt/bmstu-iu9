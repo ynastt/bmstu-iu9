{
  "nbformat": 4,
  "nbformat_minor": 0,
  "metadata": {
    "colab": {
      "provenance": []
    },
    "kernelspec": {
      "name": "python3",
      "display_name": "Python 3"
    },
    "language_info": {
      "name": "python"
    }
  },
  "cells": [
    {
      "cell_type": "code",
      "execution_count": 1,
      "metadata": {
        "id": "QSTjR2chRwXF"
      },
      "outputs": [],
      "source": [
        "import math\n",
        "import random\n",
        "import numpy as np\n",
        "import copy"
      ]
    },
    {
      "cell_type": "markdown",
      "source": [
        "Вспомогательные функции Евклидовой нормы и умножения матрицы на вектор"
      ],
      "metadata": {
        "id": "0FnjDXMAqzWR"
      }
    },
    {
      "cell_type": "code",
      "source": [
        "\n",
        "def euclidean_norm(vec):\n",
        "    res = 0\n",
        "    for el in vec:\n",
        "        res += el**2\n",
        "    return math.sqrt(res)\n",
        "\n",
        "def mul_on_vector(matrix, vector):\n",
        "    res = []\n",
        "    for i in range(len(matrix)):\n",
        "        el = 0\n",
        "        for j in range(len(vector)):\n",
        "            el += matrix[i][j] * vector[j]\n",
        "        res.append(el)\n",
        "    return res"
      ],
      "metadata": {
        "id": "f9PlXYL4l7UQ"
      },
      "execution_count": 2,
      "outputs": []
    },
    {
      "cell_type": "markdown",
      "source": [
        "метод Гаусса"
      ],
      "metadata": {
        "id": "HjtvMd92rBFz"
      }
    },
    {
      "cell_type": "code",
      "source": [
        "# метод Гаусса для действительных квадратных матриц\n",
        "# произвольной размерности n.\n",
        "def gauss(matrix):\n",
        "    n = len(matrix)\n",
        "    x = [0 for i in range(n)]\n",
        "    A = copy.deepcopy(matrix)\n",
        "    # towards\n",
        "    for i in range(n):\n",
        "        for j in range(i + 1, n):\n",
        "            c = A[j][i] / A[i][i]\n",
        "            for k in range(n + 1):\n",
        "                A[j][k] = A[j][k] - c * A[i][k]\n",
        "    x[n - 1] = A[n - 1][n] / A[n - 1][n - 1]\n",
        "    # backwards\n",
        "    for i in range(n - 2, -1, -1):\n",
        "        x[i] = A[i][n]\n",
        "        for j in range(i + 1, n):\n",
        "            x[i] = x[i] - A[i][j] * x[j]\n",
        "        x[i] = x[i] / A[i][i]\n",
        "    return x"
      ],
      "metadata": {
        "id": "auj_WRwjl_M9"
      },
      "execution_count": 13,
      "outputs": []
    },
    {
      "cell_type": "markdown",
      "source": [
        "Функции с матрицами"
      ],
      "metadata": {
        "id": "VjOJZeC_rCoa"
      }
    },
    {
      "cell_type": "code",
      "source": [
        "# возможность ручного ввода элементов матрицы произвольной\n",
        "# размерности.\n",
        "def manual_fill_matrix(n):\n",
        "    matrix = [[0 for _ in range(n)] for _ in range(n)]\n",
        "    for i in range(n):\n",
        "        for j in range(n):\n",
        "            matrix[i][j] = float(input( 'a['+str(i)+']['+ str(j)+'] ='))\n",
        "    return matrix\n",
        "\n",
        "# возможность генерации матриц со случайными элементами\n",
        "# в заданном диапазоне [a, b], где a и b принадлежат R.\n",
        "def generate_matrix(n, a, b):\n",
        "    matrix = [[random.uniform(a, b) for i in range(n)] for j in range(n)]\n",
        "    return matrix\n",
        "\n",
        "# возможность принудительного увеличения на заданный порядок\n",
        "# среднее значение генерируемых диагональных элементов aii матрицы A\n",
        "# системы уравнений A · х = b.\n",
        "def increase_diag_elems(a, p, pow):\n",
        "    for i in range(0, len(a)):\n",
        "        a[i][i] = abs(a[i][i] + (p**pow))\n",
        "    return a\n",
        "\n",
        "# сравнение по евклидовой норме\n",
        "def get_diff(x1, x2):\n",
        "    x = []\n",
        "    for i in range(0, len(x1)):\n",
        "        x.append(abs(x1[i] - x2[i]))\n",
        "    return euclidean_norm(x)\n",
        "\n",
        "def print_matrix(a):\n",
        "    for i in range(len(a)):\n",
        "        print(a[i])\n",
        "\n",
        "\n",
        "\n",
        "# test\n",
        "print(f'euclid diff: {get_diff([1, 2, 3], [1, 2, 4])}')\n",
        "\n",
        "mat = generate_matrix(3, -5, 5)\n",
        "print('\\ngenerated matrix:\\n')\n",
        "print_matrix(mat)\n",
        "\n",
        "print('\\ngenerated matrix with increased diag elems:\\n')\n",
        "print_matrix(increase_diag_elems(mat,10, 2))\n",
        "# mat = manual_fill_matrix(3)\n",
        "# print(mat)\n",
        "\n",
        "\n"
      ],
      "metadata": {
        "colab": {
          "base_uri": "https://localhost:8080/"
        },
        "id": "GyP_zlhFmENg",
        "outputId": "448797d1-6259-4e0f-87c5-636dd55f6f1b"
      },
      "execution_count": 18,
      "outputs": [
        {
          "output_type": "stream",
          "name": "stdout",
          "text": [
            "euclid diff: 1.0\n",
            "\n",
            "generated matrix:\n",
            "\n",
            "[-2.377876143420967, -2.7420846020935685, 0.9011683365822254]\n",
            "[-1.39392681224626, -1.0571877996093049, -0.28066627251611465]\n",
            "[-4.56833094681169, 4.901150931913417, 2.7505492930845445]\n",
            "\n",
            "generated matrix with increased diag elems:\n",
            "\n",
            "[97.62212385657904, -2.7420846020935685, 0.9011683365822254]\n",
            "[-1.39392681224626, 98.94281220039069, -0.28066627251611465]\n",
            "[-4.56833094681169, 4.901150931913417, 102.75054929308455]\n"
          ]
        }
      ]
    },
    {
      "cell_type": "markdown",
      "source": [
        "Тестирование алгоритма"
      ],
      "metadata": {
        "id": "StUwEff4rGVc"
      }
    },
    {
      "cell_type": "code",
      "source": [
        "def testing(x):\n",
        "    n = 4\n",
        "    l = 1\n",
        "    r = 5\n",
        "\n",
        "    a = generate_matrix(n, l, r)\n",
        "    print(\"matrix A:\")\n",
        "    print_matrix(a)\n",
        "    b = mul_on_vector(a, x)\n",
        "    print(\"\\nvector b:\", b)\n",
        "    A = np.column_stack((a, b))\n",
        "    x_calc = gauss(A)\n",
        "    print(\"\\nx_calc:\", x_calc)\n",
        "    x_lib = np.linalg.solve(a, b)\n",
        "    print(\"\\nx_lib:\", x_lib)\n",
        "    print(f'\\nEuclid ||х - x_числ||: {get_diff(x, x_calc)}')\n",
        "    print(f'Euclid ||х - x_библ||: {get_diff(x, x_lib)}')\n",
        "\n",
        "    print(\"\\n\\n\\nmatrix A with increased diagonal elements:\")\n",
        "    a = increase_diag_elems(a, 2, 5)\n",
        "    print_matrix(a)\n",
        "    b = mul_on_vector(a, x)\n",
        "    print(\"\\nvector b:\", b)\n",
        "    A = np.column_stack((a, b))\n",
        "    x_calc = gauss(A)\n",
        "    print(\"\\nx_calc:\", x_calc)\n",
        "    x_lib = np.linalg.solve(a, b)\n",
        "    print(\"\\nx_lib:\", x_lib)\n",
        "    print(f'\\nEuclid ||х - x_числ||: {get_diff(x, x_calc)}')\n",
        "    print(f'Euclid ||х - x_библ||: {get_diff(x, x_lib)}')\n",
        "\n",
        "# test\n",
        "x = [1] * 4\n",
        "testing(x)"
      ],
      "metadata": {
        "colab": {
          "base_uri": "https://localhost:8080/"
        },
        "id": "UeLYSIyamYrl",
        "outputId": "a3c1cbc3-6c14-4b69-91ec-94882d7d2164"
      },
      "execution_count": 30,
      "outputs": [
        {
          "output_type": "stream",
          "name": "stdout",
          "text": [
            "matrix A:\n",
            "[3.496423734645536, 1.9065688059977721, 2.7942772869438377, 2.2376313349760535]\n",
            "[1.6702099518327933, 3.2011389661633296, 1.6814012787535288, 2.1373427681334998]\n",
            "[4.077972019670863, 2.5959511571753184, 3.8353163081849364, 4.969880163834409]\n",
            "[1.8791753042660444, 4.924954068723172, 4.448944787584431, 4.697536992555628]\n",
            "\n",
            "vector b: [10.4349011625632, 8.690092964883151, 15.479119648865527, 15.950611153129275]\n",
            "\n",
            "x_calc: [1.0, 1.0, 1.000000000000001, 0.9999999999999993]\n",
            "\n",
            "x_lib: [1. 1. 1. 1.]\n",
            "\n",
            "Euclid ||х - x_числ||: 1.2947314098277875e-15\n",
            "Euclid ||х - x_библ||: 8.3820000221454525e-16\n",
            "\n",
            "\n",
            "\n",
            "matrix A with increased diagonal elements:\n",
            "[35.49642373464554, 1.9065688059977721, 2.7942772869438377, 2.2376313349760535]\n",
            "[1.6702099518327933, 35.20113896616333, 1.6814012787535288, 2.1373427681334998]\n",
            "[4.077972019670863, 2.5959511571753184, 35.835316308184936, 4.969880163834409]\n",
            "[1.8791753042660444, 4.924954068723172, 4.448944787584431, 36.69753699255563]\n",
            "\n",
            "vector b: [42.4349011625632, 40.69009296488315, 47.47911964886553, 47.95061115312927]\n",
            "\n",
            "x_calc: [1.0, 1.0, 1.0, 0.9999999999999998]\n",
            "\n",
            "x_lib: [1. 1. 1. 1.]\n",
            "\n",
            "Euclid ||х - x_числ||: 2.220446049250313e-16\n",
            "Euclid ||х - x_библ||: 3.1401849173675503e-16\n"
          ]
        }
      ]
    }
  ]
}