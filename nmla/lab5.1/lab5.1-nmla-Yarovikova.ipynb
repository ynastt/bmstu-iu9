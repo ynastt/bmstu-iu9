{
  "nbformat": 4,
  "nbformat_minor": 0,
  "metadata": {
    "colab": {
      "provenance": []
    },
    "kernelspec": {
      "name": "python3",
      "display_name": "Python 3"
    },
    "language_info": {
      "name": "python"
    }
  },
  "cells": [
    {
      "cell_type": "markdown",
      "source": [
        "ЛАБОРАТОРНАЯ РАБОТА 5.1\n"
      ],
      "metadata": {
        "id": "1wsDmzmMUbxG"
      }
    },
    {
      "cell_type": "code",
      "execution_count": null,
      "metadata": {
        "id": "LmE09JGrUaxI"
      },
      "outputs": [],
      "source": [
        "import numpy as np\n",
        "from copy import deepcopy\n",
        "import matplotlib.pyplot as plt\n",
        "import sys\n",
        "\n",
        "# согласованная матричная норма\n",
        "def matrix_norm(matrix):\n",
        "  sum = 0\n",
        "  for i in range(len(matrix)):\n",
        "    sum += abs(matrix[i])\n",
        "  return max(sum)\n",
        "\n",
        "# согласованная векторная норма\n",
        "def vec_norm(v):\n",
        "  return max(map(abs, v))\n",
        "\n",
        "# генерация вектора\n",
        "def generate_vec(l, r, n):\n",
        "    while True:\n",
        "      vec = np.random.uniform(l, r, n)\n",
        "      if vec_norm(vec) < 1:\n",
        "        break\n",
        "    return vec\n",
        "\n",
        "# генерация матрицы\n",
        "def generate_matrix(l, r, n):\n",
        "    a = np.random.uniform(l, r, (n, n))\n",
        "    return a\n",
        "\n",
        "def increase_diag_elems(a, diag):\n",
        "    n = len(a)\n",
        "    for i in range(0, len(a)):\n",
        "        a[i][i] = diag * sum(abs(a[i][j]) if j != i else 0 for j in range(n))\n",
        "    return a\n",
        "\n",
        "# Вычисляем диагональное преобладание\n",
        "# Проверить выполнение условия диагонального преобладания\n",
        "def calc_diagonal_dominance(a):\n",
        "  degree = max(abs(a[i][i]) - sum(abs(a[i][j]) if j != i else 0 for j in range(len(a))) for i in range(len(a)))\n",
        "  return degree > 0\n"
      ]
    },
    {
      "cell_type": "code",
      "source": [
        "# стандартный метод Гаусса\n",
        "def gauss(matrix, vec):\n",
        "    n = len(matrix)\n",
        "    A = deepcopy(matrix)\n",
        "    b = deepcopy(vec)\n",
        "    x = np.zeros(shape=(n, ))\n",
        "    # towards\n",
        "    for i in range(n - 1):\n",
        "        if A[i][i] == 0:\n",
        "            for j in range(i + 1, n):\n",
        "                if A[j][i] != 0:\n",
        "                    A[i], A[j] = A[j], A[i]\n",
        "                    break\n",
        "\n",
        "        for j in range(i + 1, n):\n",
        "            c = - A[j][i] / A[i][i]\n",
        "            A[j] += c * A[i]\n",
        "            b[j] += c * b[i]\n",
        "\n",
        "    # backwards\n",
        "    for i in range(n - 1, -1, -1):\n",
        "        x[i] = b[i] / A[i][i]\n",
        "        for j in range(i - 1, -1, -1):\n",
        "            b[j] -= A[j][i] * x[i]\n",
        "\n",
        "    return np.array(x)"
      ],
      "metadata": {
        "id": "3cgF_lK0aW-O"
      },
      "execution_count": null,
      "outputs": []
    },
    {
      "cell_type": "markdown",
      "source": [
        "метод Якоби"
      ],
      "metadata": {
        "id": "EylP7bOEtINz"
      }
    },
    {
      "cell_type": "code",
      "source": [
        "def jacobi(A, f):\n",
        "  eps = eps = 1e-6\n",
        "  n = len(A)\n",
        "  D = np.array([[0 if i != j else A[i][j] for j in range(n)] for i in range(n)])\n",
        "  D_inv = np.linalg.inv(D)\n",
        "  P = np.dot(-D_inv, A - D)\n",
        "\n",
        "  norm_P = matrix_norm(deepcopy(P))\n",
        "  q = np.max(np.abs(np.linalg.eigvals(P)))\n",
        "  if not (norm_P < 1):\n",
        "    print('||P|| ≤ q < 1 not working')\n",
        "    print(f'norma_P: {norm_P}')\n",
        "  else:\n",
        "    print('||P|| ≤ q < 1 correct')\n",
        "    print(f'norma_P: {norm_P}')\n",
        "\n",
        "  g = np.dot(D_inv, f)\n",
        "  x_k = g\n",
        "  iters = 1\n",
        "  while True:\n",
        "    x_ki = np.dot(P, x_k) + g\n",
        "    # критерий остановки итерационного процесс используя равномерную норму\n",
        "    if vec_norm(x_ki - x_k) < eps:\n",
        "      break\n",
        "    iters += 1\n",
        "    x_k = x_ki\n",
        "  return x_ki, iters\n"
      ],
      "metadata": {
        "id": "x9A2JDLlabYm"
      },
      "execution_count": null,
      "outputs": []
    },
    {
      "cell_type": "markdown",
      "source": [
        "тестирование"
      ],
      "metadata": {
        "id": "dBNpLMFVy4Tl"
      }
    },
    {
      "cell_type": "code",
      "source": [
        "n = 10\n",
        "a = generate_matrix(0, 10, n)\n",
        "a = increase_diag_elems(a, 3)\n",
        "print('matrix a:')\n",
        "print(a)\n",
        "f = generate_vec(0, 0.5, n)\n",
        "print(f'\\nvector f: {f}')\n",
        "\n",
        "diag_cond = calc_diagonal_dominance(a)\n",
        "print(f'\\ncheck for diagonal dominance condition: {diag_cond}')\n",
        "\n",
        "# correct res\n",
        "x = np.dot(np.linalg.inv(a), f)\n",
        "\n",
        "# jacobi res\n",
        "x_j, iters = jacobi(a, f)\n",
        "\n",
        "print(f'jacobi iterations: {iters}')\n",
        "# gauss res\n",
        "x_g = gauss(a, f)\n",
        "\n",
        "print(f'\\ncorrect res: {x}')\n",
        "print(f'\\njacobi res: {x_j}')\n",
        "print(f'\\ngauss res: {x_g}')\n",
        "\n",
        "print('\\n\\nrelative errors:')\n",
        "from tabulate import tabulate\n",
        "g = vec_norm(x_g - x) / vec_norm(x_g)\n",
        "j = vec_norm(x_j - x) / vec_norm(x_j)\n",
        "mydata = [[g, j]]\n",
        "\n",
        "# create header\n",
        "head = [\"Jacobi\", \"Gauss\"]\n",
        "\n",
        "# display table\n",
        "print(tabulate(mydata, headers=head, tablefmt=\"grid\"))"
      ],
      "metadata": {
        "colab": {
          "base_uri": "https://localhost:8080/"
        },
        "id": "PCNiJVsacJ1h",
        "outputId": "b62d8d35-96dd-4ada-d9bf-4e0ac251ab15"
      },
      "execution_count": null,
      "outputs": [
        {
          "output_type": "stream",
          "name": "stdout",
          "text": [
            "matrix a:\n",
            "[[144.97561466   9.16381466   9.25421316   6.21727221   5.57038817\n",
            "    8.07527481   2.59785917   1.88257564   3.75902006   1.80478701]\n",
            " [  5.39570649 115.22388431   2.39397764   9.14577052   2.71531561\n",
            "    0.86663494   2.73075289   6.05541836   7.8783051    1.22607989]\n",
            " [  6.43069531   3.10528649 101.49360379   0.47120823   2.86130315\n",
            "    1.95455403   7.91862718   2.69908653   6.20846721   2.18197314]\n",
            " [  7.56262108   6.44263741   3.61166505 171.34205967   2.34143891\n",
            "    8.61527615   7.2185058    7.86560749   6.0716131    7.38465489]\n",
            " [  5.20924534   5.56477755   3.03002561   1.78521576 135.7496333\n",
            "    5.34928475   1.16241279   8.76045733   5.64235047   8.74610816]\n",
            " [  3.83321992   3.25366125   9.10035653   1.27739288   8.55390764\n",
            "  149.88976614   4.18063237   4.67936269   9.19982741   5.88489468]\n",
            " [  6.22738329   5.71663493   1.49596839   1.44603041   9.67829332\n",
            "    2.06802323 131.42636921   6.29471654   2.05879028   8.82294933]\n",
            " [  8.34591933   3.19210406   3.74815506   4.43715844   1.36456584\n",
            "    9.91554293   0.98672866 125.67730453   7.60428288   2.29797766]\n",
            " [  5.28848423   8.5658438    7.72679639   6.13306822   9.59081818\n",
            "    0.77930074   2.96092994   2.86916051 147.37453118   5.21044172]\n",
            " [  8.16093946   9.0596119    7.47871716   8.41469976   3.62226561\n",
            "    0.23017551   1.29233291   1.36376113   6.38705916 138.02868782]]\n",
            "\n",
            "vector f: [0.2454429  0.23154752 0.19474097 0.24836864 0.17592054 0.03501035\n",
            " 0.30801967 0.04694681 0.35541206 0.20858502]\n",
            "\n",
            "check for diagonal dominance condition: True\n",
            "||P|| ≤ q < 1 correct\n",
            "norma_P: 0.42707388767437165\n",
            "jacobi iterations: 7\n",
            "\n",
            "correct res: [ 1.32428559e-03  1.61225084e-03  1.45444821e-03  1.09555069e-03\n",
            "  9.71587346e-04 -2.09168980e-04  2.01176301e-03  1.21156906e-05\n",
            "  2.00884407e-03  1.04439811e-03]\n",
            "\n",
            "jacobi res: [ 1.32410641e-03  1.61207166e-03  1.45426903e-03  1.09537151e-03\n",
            "  9.71408164e-04 -2.09348162e-04  2.01158383e-03  1.19365083e-05\n",
            "  2.00866489e-03  1.04421893e-03]\n",
            "\n",
            "gauss res: [ 1.32428559e-03  1.61225084e-03  1.45444821e-03  1.09555069e-03\n",
            "  9.71587346e-04 -2.09168980e-04  2.01176301e-03  1.21156906e-05\n",
            "  2.00884407e-03  1.04439811e-03]\n",
            "\n",
            "\n",
            "relative errors:\n",
            "+-------------+-------------+\n",
            "|      Jacobi |       Gauss |\n",
            "+=============+=============+\n",
            "| 3.23359e-16 | 8.90755e-05 |\n",
            "+-------------+-------------+\n"
          ]
        }
      ]
    }
  ]
}