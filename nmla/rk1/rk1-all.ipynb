{
  "nbformat": 4,
  "nbformat_minor": 0,
  "metadata": {
    "colab": {
      "provenance": []
    },
    "kernelspec": {
      "name": "python3",
      "display_name": "Python 3"
    },
    "language_info": {
      "name": "python"
    }
  },
  "cells": [
    {
      "cell_type": "code",
      "source": [
        "import numpy as np\n",
        "from copy import deepcopy\n",
        "import matplotlib.pyplot as plt\n",
        "import sys\n",
        "\n",
        "def euclidean_norm(vec):\n",
        "    res = 0\n",
        "    for el in vec:\n",
        "        res += el**2\n",
        "    return np.sqrt(res)\n",
        "\n",
        "# сравнение по евклидовой норме\n",
        "def get_diff(x1, x2):\n",
        "    x = []\n",
        "    for i in range(0, len(x1)):\n",
        "        x.append(abs(x1[i] - x2[i]))\n",
        "    return euclidean_norm(x)\n",
        "\n",
        "# согласованная матричная норма\n",
        "def matrix_norm(matrix):\n",
        "  sum = 0\n",
        "  for i in range(len(matrix)):\n",
        "    sum += abs(matrix[i])\n",
        "  return max(sum)\n",
        "\n",
        "def generate_symmetrical_matrix(l, r, n):\n",
        "    a = np.random.uniform(l, r, (n, n))\n",
        "    a = np.tril(a) + np.tril(a, -1).T\n",
        "    return a\n",
        "\n",
        "def generate_vec(l, r, n):\n",
        "  vec = np.random.uniform(l, r, n)\n",
        "  return vec\n",
        "\n",
        "def increase_diag_elems(a, diag):\n",
        "    n = len(a)\n",
        "    for i in range(0, len(a)):\n",
        "        a[i][i] = diag * sum(abs(a[i][j]) if j != i else 0 for j in range(n))\n",
        "    return a\n",
        "\n",
        "# Вычисляем диагональное преобладание\n",
        "# Проверить выполнение условия диагонального преобладания\n",
        "def calc_diagonal_dominance(a):\n",
        "  degree = max(abs(a[i][i]) - sum(abs(a[i][j]) if j != i else 0 for j in range(len(a))) for i in range(len(a)))\n",
        "  return degree > 0\n",
        "\n",
        "def LU(A):\n",
        "    # A = L * U\n",
        "    n = len(A)\n",
        "    L, U = np.zeros_like(A), np.zeros_like(A)\n",
        "    for i in range(n): L[i][i] = 1.0\n",
        "\n",
        "    for i in range(n):\n",
        "        for j in range(n):\n",
        "            if i <= j:\n",
        "                s = sum(L[i][k] * U[k][j] for k in range(i))\n",
        "                U[i][j] = A[i][j] - s\n",
        "            elif i > j:\n",
        "                s = sum(L[i][k] * U[k][j] for k in range(j))\n",
        "                L[i][j] = (A[i][j] - s) / U[j][j]\n",
        "    return L, U\n",
        "\n",
        "n = 5\n",
        "A = generate_symmetrical_matrix(10, 40, n)\n",
        "A = increase_diag_elems(A, 3)\n",
        "print(f'matrix A:\\n{A}\\n')\n",
        "\n",
        "L, U = LU(A)\n",
        "print(f'matrix L:\\n{L}\\n')\n",
        "print(f'matrix U:\\n{U}\\n')\n",
        "print(f'matrix L*U:\\n{L @ U}\\n')\n",
        "lu_err = matrix_norm(A - L @ U)\n",
        "print(f'LU decomposition error: {lu_err}\\n')"
      ],
      "metadata": {
        "colab": {
          "base_uri": "https://localhost:8080/"
        },
        "id": "hbhR4xNhu836",
        "outputId": "328ea607-592f-4f6f-ffe3-91c2eb5edc9d"
      },
      "execution_count": 5,
      "outputs": [
        {
          "output_type": "stream",
          "name": "stdout",
          "text": [
            "matrix A:\n",
            "[[199.32723742  13.36168261  14.50762551  27.14356867  11.42953568]\n",
            " [ 13.36168261 226.15556668  27.78905004  14.41624636  19.81820989]\n",
            " [ 14.50762551  27.78905004 218.94406972  19.03914996  11.64553106]\n",
            " [ 27.14356867  14.41624636  19.03914996 233.16450116  17.12253539]\n",
            " [ 11.42953568  19.81820989  11.64553106  17.12253539 180.04743606]]\n",
            "\n",
            "matrix L:\n",
            "[[1.         0.         0.         0.         0.        ]\n",
            " [0.0670339  1.         0.         0.         0.        ]\n",
            " [0.07278296 0.11904715 1.         0.         0.        ]\n",
            " [0.13617591 0.05592077 0.0724931  1.         0.        ]\n",
            " [0.05734056 0.08457806 0.03980314 0.06097998 1.        ]]\n",
            "\n",
            "matrix U:\n",
            "[[199.32723742  13.36168261  14.50762551  27.14356867  11.42953568]\n",
            " [  0.         225.25988095  26.81654728  12.59670702  19.05204351]\n",
            " [  0.           0.         214.69572828  15.56395871   8.54556415]\n",
            " [  0.           0.           0.         227.63550368  13.88120847]\n",
            " [  0.           0.           0.           0.         176.5940591 ]]\n",
            "\n",
            "matrix L*U:\n",
            "[[199.32723742  13.36168261  14.50762551  27.14356867  11.42953568]\n",
            " [ 13.36168261 226.15556668  27.78905004  14.41624636  19.81820989]\n",
            " [ 14.50762551  27.78905004 218.94406972  19.03914996  11.64553106]\n",
            " [ 27.14356867  14.41624636  19.03914996 233.16450116  17.12253539]\n",
            " [ 11.42953568  19.81820989  11.64553106  17.12253539 180.04743606]]\n",
            "\n",
            "LU decomposition error: 3.552713678800501e-15\n",
            "\n"
          ]
        }
      ]
    },
    {
      "cell_type": "markdown",
      "source": [
        "РК 1 - Решение системы уравнения через LU-разложение"
      ],
      "metadata": {
        "id": "14n11xAdmE79"
      }
    },
    {
      "cell_type": "code",
      "execution_count": 9,
      "metadata": {
        "colab": {
          "base_uri": "https://localhost:8080/"
        },
        "id": "_xnAbDNTmDC3",
        "outputId": "36bd488b-c569-411b-fc91-ce3c25934a76"
      },
      "outputs": [
        {
          "output_type": "stream",
          "name": "stdout",
          "text": [
            "matrix A:\n",
            "[[199.32723742  13.36168261  14.50762551  27.14356867  11.42953568]\n",
            " [ 13.36168261 226.15556668  27.78905004  14.41624636  19.81820989]\n",
            " [ 14.50762551  27.78905004 218.94406972  19.03914996  11.64553106]\n",
            " [ 27.14356867  14.41624636  19.03914996 233.16450116  17.12253539]\n",
            " [ 11.42953568  19.81820989  11.64553106  17.12253539 180.04743606]]\n",
            "\n",
            "vector b: [5829.62365266 5298.73275634 3964.02439901 5585.40612878 5845.6549401 ]\n",
            "y: [5829.62365266 4907.95033257 2955.44964909 4302.84571318 4716.25251252], y1: [5829.62365266 4907.95033257 2955.44964909 4302.84571318 4716.25251252]\n",
            "x: [23.37645905 17.20002807 11.45051739 17.27377212 26.70674504], x1: [23.37645905 17.20002807 11.45051739 17.27377212 26.70674504]\n",
            "correct x: [23.37645905 17.20002807 11.45051739 17.27377212 26.70674504]\n",
            "calculated x: [23.37645905 17.20002807 11.45051739 17.27377212 26.70674504]\n",
            "\n",
            "Euclid ||х* - x||: 7.32410687763558e-15\n"
          ]
        },
        {
          "output_type": "execute_result",
          "data": {
            "text/plain": [
              "True"
            ]
          },
          "metadata": {},
          "execution_count": 9
        }
      ],
      "source": [
        "def solve_SLAU(L, U, b):\n",
        "  n = len(b)\n",
        "\n",
        "  y = np.zeros(n)\n",
        "  for i in range(n):\n",
        "    y[i] = b[i] - sum(L[i][k] * y[k] for k in range(0, i))\n",
        "\n",
        "  y1 = np.linalg.solve(L, b)\n",
        "  print(f'y: {y}, y1: {y1}')\n",
        "\n",
        "  x = np.zeros(n)\n",
        "  for i in range(n - 1, -1, -1):\n",
        "    x[i] = (y[i] - sum(U[i][k] * x[k] for k in range(i + 1, n))) / U[i][i]\n",
        "\n",
        "  x1 = np.linalg.solve(U, y)\n",
        "  print(f'x: {x}, x1: {x1}')\n",
        "\n",
        "  return x\n",
        "\n",
        "correct_x = generate_vec(10, 40, n)\n",
        "b = A @ correct_x\n",
        "print(f'matrix A:\\n{A}\\n')\n",
        "print(f'vector b: {b}')\n",
        "L, U = LU(A)\n",
        "x = solve_SLAU(L, U, b)\n",
        "print(f'correct x: {correct_x}')\n",
        "print(f'calculated x: {x}')\n",
        "print(f'\\nEuclid ||х* - x||: {get_diff(correct_x, x)}')\n",
        "np.allclose(correct_x, x)"
      ]
    },
    {
      "cell_type": "markdown",
      "source": [
        "РК 1 - Вычисление определителя матрицы через LU-\n",
        "разложение"
      ],
      "metadata": {
        "id": "pSgMlBDgurrB"
      }
    },
    {
      "cell_type": "code",
      "source": [
        "def get_matrix_det(L, U):\n",
        "  det = 1\n",
        "  n = U.shape[0]\n",
        "  for i in range(n):\n",
        "    det *= U[i][i]\n",
        "  return det\n",
        "\n",
        "print(f'matrix det through liblaly: {np.linalg.det(A)}')\n",
        "print(f'matrix det through LU decomposition: {get_matrix_det(L, U)}')"
      ],
      "metadata": {
        "colab": {
          "base_uri": "https://localhost:8080/"
        },
        "id": "cd1vF0_HuuRa",
        "outputId": "0f6195c1-1cee-4620-bc59-320531f15884"
      },
      "execution_count": 3,
      "outputs": [
        {
          "output_type": "stream",
          "name": "stdout",
          "text": [
            "matrix det through liblaly: 1979895612248.6667\n",
            "matrix det through LU decomposition: 1979895612248.669\n"
          ]
        }
      ]
    },
    {
      "cell_type": "markdown",
      "source": [
        "РК 1 - Поиск обратной матрицы через LU-разложение"
      ],
      "metadata": {
        "id": "U7KmPn2puuut"
      }
    },
    {
      "cell_type": "code",
      "source": [
        "def get_inversed_matrix(L, U):\n",
        "  n = L.shape[0]\n",
        "  E = np.identity(n)\n",
        "  INV = np.zeros((n, n), dtype=float)\n",
        "\n",
        "  for i in range(n):\n",
        "    y = np.zeros(n)\n",
        "    x = np.zeros(n)\n",
        "    for j in range(n):\n",
        "      y[j] = E[j][i]\n",
        "      for k in range(j):\n",
        "        y[j] = y[j] - L[j][k] * y[k]\n",
        "      y[j] = y[j] / L[j][j]\n",
        "\n",
        "    for j in range(n - 1, -1, -1):\n",
        "      x[j] = y[j]\n",
        "      for k in range(j + 1, n):\n",
        "        x[j] = x[j] - U[j][k] * x[k]\n",
        "      x[j] = x[j] / U[j][j]\n",
        "\n",
        "    INV[:, i] = x\n",
        "\n",
        "  return INV\n",
        "\n",
        "A_inv = get_inversed_matrix(L, U)\n",
        "print(f'inversed matrix A through LU:\\n{A_inv}\\n')\n",
        "print(f'inversed matrix A through lib:\\n{np.linalg.inv(A)}\\n')\n",
        "err = matrix_norm(A_inv - np.linalg.inv(A))\n",
        "print(f'error: {err}\\n')"
      ],
      "metadata": {
        "colab": {
          "base_uri": "https://localhost:8080/"
        },
        "id": "pG2MgXdPuxga",
        "outputId": "4c7f15a5-0e90-4f9a-d4a6-867635e52bda"
      },
      "execution_count": 4,
      "outputs": [
        {
          "output_type": "stream",
          "name": "stdout",
          "text": [
            "inversed matrix A through LU:\n",
            "[[ 3.40240668e-03 -3.28605628e-04 -2.58360425e-04 -1.86417301e-04\n",
            "  -1.58531940e-04]\n",
            " [-3.28605628e-04  3.26201552e-03 -7.46868687e-05 -2.76001373e-04\n",
            "  -2.86426183e-04]\n",
            " [-2.58360425e-04 -7.46868687e-05  3.45830724e-03 -2.50982380e-04\n",
            "  -3.59017778e-04]\n",
            " [-1.86417301e-04 -2.76001373e-04 -2.50982380e-04  4.44658397e-03\n",
            "  -1.50362817e-04]\n",
            " [-1.58531940e-04 -2.86426183e-04 -3.59017778e-04 -1.50362817e-04\n",
            "   3.13691035e-03]]\n",
            "\n",
            "inversed matrix A through lib:\n",
            "[[ 3.40240668e-03 -3.28605628e-04 -2.58360425e-04 -1.86417301e-04\n",
            "  -1.58531940e-04]\n",
            " [-3.28605628e-04  3.26201552e-03 -7.46868687e-05 -2.76001373e-04\n",
            "  -2.86426183e-04]\n",
            " [-2.58360425e-04 -7.46868687e-05  3.45830724e-03 -2.50982380e-04\n",
            "  -3.59017778e-04]\n",
            " [-1.86417301e-04 -2.76001373e-04 -2.50982380e-04  4.44658397e-03\n",
            "  -1.50362817e-04]\n",
            " [-1.58531940e-04 -2.86426183e-04 -3.59017778e-04 -1.50362817e-04\n",
            "   3.13691035e-03]]\n",
            "\n",
            "error: 1.0299920638612292e-18\n",
            "\n"
          ]
        }
      ]
    }
  ]
}