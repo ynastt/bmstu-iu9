{
  "nbformat": 4,
  "nbformat_minor": 0,
  "metadata": {
    "colab": {
      "provenance": []
    },
    "kernelspec": {
      "name": "python3",
      "display_name": "Python 3"
    },
    "language_info": {
      "name": "python"
    }
  },
  "cells": [
    {
      "cell_type": "code",
      "source": [
        "import numpy as np\n",
        "\n",
        "def matrix_norm(matrix):\n",
        "  sum = 0\n",
        "  for i in range(len(matrix)):\n",
        "    sum += abs(matrix[i])\n",
        "  return max(sum)\n",
        "\n",
        "def generate_symmetrical_matrix(l, r, n):\n",
        "    a = np.random.uniform(l, r, (n, n))\n",
        "    a = np.tril(a) + np.tril(a, -1).T\n",
        "    return a\n",
        "\n",
        "def increase_diag_elems(a, diag):\n",
        "    n = len(a)\n",
        "    for i in range(0, len(a)):\n",
        "        a[i][i] = diag * sum(abs(a[i][j]) if j != i else 0 for j in range(n))\n",
        "    return a\n",
        "\n",
        "def calc_diagonal_dominance(a):\n",
        "  degree = max(abs(a[i][i]) - sum(abs(a[i][j]) if j != i else 0 for j in range(len(a))) for i in range(len(a)))\n",
        "  return degree > 0"
      ],
      "metadata": {
        "id": "hbhR4xNhu836"
      },
      "execution_count": 18,
      "outputs": []
    },
    {
      "cell_type": "code",
      "source": [
        "def LU(A):\n",
        "    # A = L * U\n",
        "    n = len(A)\n",
        "    L, U = np.zeros_like(A), np.zeros_like(A)\n",
        "    for i in range(n): L[i][i] = 1.0\n",
        "\n",
        "    for i in range(n):\n",
        "        for j in range(n):\n",
        "            if i <= j:\n",
        "                s = sum(L[i][k] * U[k][j] for k in range(i))\n",
        "                U[i][j] = A[i][j] - s\n",
        "            elif i > j:\n",
        "                s = sum(L[i][k] * U[k][j] for k in range(j))\n",
        "                L[i][j] = (A[i][j] - s) / U[j][j]\n",
        "    return L, U\n",
        "\n",
        "n = 5\n",
        "A = generate_symmetrical_matrix(10, 40, n)\n",
        "A = increase_diag_elems(A, 3)\n",
        "print(f'matrix A:\\n{A}\\n')\n",
        "\n",
        "L, U = LU(A)\n",
        "print(f'matrix L:\\n{L}\\n')\n",
        "print(f'matrix U:\\n{U}\\n')\n",
        "print(f'matrix L*U:\\n{L @ U}\\n')\n",
        "lu_err = matrix_norm(A - L @ U)\n",
        "print(f'LU decomposition error: {lu_err}\\n')"
      ],
      "metadata": {
        "colab": {
          "base_uri": "https://localhost:8080/"
        },
        "id": "H4k9Nqzc4UMV",
        "outputId": "a8f8a5fb-c270-40fe-96ab-68524980d638"
      },
      "execution_count": 19,
      "outputs": [
        {
          "output_type": "stream",
          "name": "stdout",
          "text": [
            "matrix A:\n",
            "[[222.53668464  11.11210648  19.84806812  28.66898444  14.54973584]\n",
            " [ 11.11210648 288.49680622  34.66397586  17.03148003  33.3580397 ]\n",
            " [ 19.84806812  34.66397586 290.67565234  20.8791964   21.50064373]\n",
            " [ 28.66898444  17.03148003  20.8791964  260.16497722  20.14199819]\n",
            " [ 14.54973584  33.3580397   21.50064373  20.14199819 268.6512524 ]]\n",
            "\n",
            "matrix L:\n",
            "[[1.         0.         0.         0.         0.        ]\n",
            " [0.04993382 1.         0.         0.         0.        ]\n",
            " [0.0891901  0.11694332 1.         0.         0.        ]\n",
            " [0.12882813 0.05417734 0.05789395 1.         0.        ]\n",
            " [0.06538129 0.11332672 0.05750448 0.06106299 1.        ]]\n",
            "\n",
            "matrix U:\n",
            "[[222.53668464  11.11210648  19.84806812  28.66898444  14.54973584]\n",
            " [  0.         287.94193631  33.67288603  15.59992816  32.63151583]\n",
            " [  0.           0.         284.96758216  16.49789956  16.3869136 ]\n",
            " [  0.           0.           0.         254.67131441  15.55099105]\n",
            " [  0.           0.           0.           0.         262.11003819]]\n",
            "\n",
            "matrix L*U:\n",
            "[[222.53668464  11.11210648  19.84806812  28.66898444  14.54973584]\n",
            " [ 11.11210648 288.49680622  34.66397586  17.03148003  33.3580397 ]\n",
            " [ 19.84806812  34.66397586 290.67565234  20.8791964   21.50064373]\n",
            " [ 28.66898444  17.03148003  20.8791964  260.16497722  20.14199819]\n",
            " [ 14.54973584  33.3580397   21.50064373  20.14199819 268.6512524 ]]\n",
            "\n",
            "LU decomposition error: 3.552713678800501e-15\n",
            "\n"
          ]
        }
      ]
    },
    {
      "cell_type": "markdown",
      "source": [
        "РК 1 - Вычисление определителя матрицы через LU-\n",
        "разложение"
      ],
      "metadata": {
        "id": "pSgMlBDgurrB"
      }
    },
    {
      "cell_type": "code",
      "source": [
        "def get_matrix_det(L, U):\n",
        "  det = 1\n",
        "  n = len(U)\n",
        "  for i in range(n):\n",
        "    det *= U[i][i]\n",
        "  return det\n",
        "\n",
        "lib_det = np.linalg.det(A)\n",
        "print(f'matrix det through NumPy: {lib_det}')\n",
        "lu_det = get_matrix_det(L, U)\n",
        "print(f'matrix det through LU decomposition: {lu_det}')\n",
        "print(f'are they equal: {np.allclose(lib_det, lu_det)}')"
      ],
      "metadata": {
        "colab": {
          "base_uri": "https://localhost:8080/"
        },
        "id": "cd1vF0_HuuRa",
        "outputId": "5934b6e6-c8c7-4b86-ffee-6a0d4544de37"
      },
      "execution_count": 15,
      "outputs": [
        {
          "output_type": "stream",
          "name": "stdout",
          "text": [
            "matrix det through NumPy: 2954493058240.5845\n",
            "matrix det through LU decomposition: 2954493058240.5923\n",
            "are they equal: True\n"
          ]
        }
      ]
    }
  ]
}