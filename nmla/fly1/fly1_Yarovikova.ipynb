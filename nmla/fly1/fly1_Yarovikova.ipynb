{
  "nbformat": 4,
  "nbformat_minor": 0,
  "metadata": {
    "colab": {
      "provenance": []
    },
    "kernelspec": {
      "name": "python3",
      "display_name": "Python 3"
    },
    "language_info": {
      "name": "python"
    }
  },
  "cells": [
    {
      "cell_type": "code",
      "execution_count": null,
      "metadata": {
        "id": "QSTjR2chRwXF"
      },
      "outputs": [],
      "source": [
        "import math\n",
        "import random\n",
        "import numpy as np\n",
        "import copy"
      ]
    },
    {
      "cell_type": "markdown",
      "source": [
        "Вспомогательные функции Евклидовой нормы и умножения матрицы на вектор"
      ],
      "metadata": {
        "id": "0FnjDXMAqzWR"
      }
    },
    {
      "cell_type": "code",
      "source": [
        "\n",
        "def euclidean_norm(vec):\n",
        "    res = 0\n",
        "    for el in vec:\n",
        "        res += el**2\n",
        "    return math.sqrt(res)\n",
        "\n",
        "def mul_on_vector(matrix, vector):\n",
        "    res = []\n",
        "    for i in range(len(matrix)):\n",
        "        el = 0\n",
        "        for j in range(len(vector)):\n",
        "            el += matrix[i][j] * vector[j]\n",
        "        res.append(el)\n",
        "    return res"
      ],
      "metadata": {
        "id": "f9PlXYL4l7UQ"
      },
      "execution_count": null,
      "outputs": []
    },
    {
      "cell_type": "markdown",
      "source": [
        "метод Гаусса"
      ],
      "metadata": {
        "id": "HjtvMd92rBFz"
      }
    },
    {
      "cell_type": "code",
      "source": [
        "# метод Гаусса для действительных квадратных матриц\n",
        "# произвольной размерности n.\n",
        "def gauss(matrix):\n",
        "    n = len(matrix)\n",
        "    x = [0 for i in range(n)]\n",
        "    A = copy.deepcopy(matrix)\n",
        "    # towards\n",
        "    for i in range(n):\n",
        "        for j in range(i + 1, n):\n",
        "            c = A[j][i] / A[i][i]\n",
        "            for k in range(n + 1):\n",
        "                A[j][k] = A[j][k] - c * A[i][k]\n",
        "    x[n - 1] = A[n - 1][n] / A[n - 1][n - 1]\n",
        "    # backwards\n",
        "    for i in range(n - 2, -1, -1):\n",
        "        x[i] = A[i][n]\n",
        "        for j in range(i + 1, n):\n",
        "            x[i] = x[i] - A[i][j] * x[j]\n",
        "        x[i] = x[i] / A[i][i]\n",
        "    return x"
      ],
      "metadata": {
        "id": "auj_WRwjl_M9"
      },
      "execution_count": null,
      "outputs": []
    },
    {
      "cell_type": "markdown",
      "source": [
        "Функции с матрицами"
      ],
      "metadata": {
        "id": "VjOJZeC_rCoa"
      }
    },
    {
      "cell_type": "code",
      "source": [
        "# возможность ручного ввода элементов матрицы произвольной\n",
        "# размерности.\n",
        "def manual_fill_matrix(n):\n",
        "    matrix = [[0 for _ in range(n)] for _ in range(n)]\n",
        "    for i in range(n):\n",
        "        for j in range(n):\n",
        "            matrix[i][j] = float(input( 'a['+str(i)+']['+ str(j)+'] ='))\n",
        "    return matrix\n",
        "\n",
        "# возможность генерации матриц со случайными элементами\n",
        "# в заданном диапазоне [a, b], где a и b принадлежат R.\n",
        "def generate_matrix(n, a, b):\n",
        "    matrix = [[random.uniform(a, b) for i in range(n)] for j in range(n)]\n",
        "    return matrix\n",
        "\n",
        "# возможность принудительного увеличения на заданный порядок\n",
        "# среднее значение генерируемых диагональных элементов aii матрицы A\n",
        "# системы уравнений A · х = b.\n",
        "def increase_diag_elems(a, p, pow):\n",
        "    for i in range(0, len(a)):\n",
        "        a[i][i] = abs(a[i][i] + (p**pow))\n",
        "    return a\n",
        "\n",
        "# сравнение по евклидовой норме\n",
        "def get_diff(x1, x2):\n",
        "    x = []\n",
        "    for i in range(0, len(x1)):\n",
        "        x.append(abs(x1[i] - x2[i]))\n",
        "    return euclidean_norm(x)\n",
        "\n",
        "def print_matrix(a):\n",
        "    for i in range(len(a)):\n",
        "        print(a[i])\n",
        "\n",
        "\n",
        "\n",
        "# test\n",
        "print(f'euclid diff: {get_diff([1, 2, 3], [1, 2, 4])}')\n"
      ],
      "metadata": {
        "colab": {
          "base_uri": "https://localhost:8080/"
        },
        "id": "GyP_zlhFmENg",
        "outputId": "9a1284a9-564f-4cc3-a7bc-a7a22418e12a"
      },
      "execution_count": null,
      "outputs": [
        {
          "output_type": "stream",
          "name": "stdout",
          "text": [
            "euclid diff: 1.0\n"
          ]
        }
      ]
    },
    {
      "cell_type": "markdown",
      "source": [
        "Летучка1: Прогонка и сравнение методов"
      ],
      "metadata": {
        "id": "StUwEff4rGVc"
      }
    },
    {
      "cell_type": "code",
      "source": [
        "# метод прогонки\n",
        "def progonka(a, b, c, d):\n",
        "    n = len(b)\n",
        "    x = [0 for i in range(n)]\n",
        "    # forward\n",
        "    alp = [-c[0] / b[0]]\n",
        "    bet = [d[0] / b[0]]\n",
        "    for i in range(1, n):\n",
        "        if i != n - 1:\n",
        "            y = a[i-1] * alp[i-1] + b[i]\n",
        "            alp.append(-c[i] / y)\n",
        "            bet.append((d[i]-a[i-1] * bet[i-1]) / y)\n",
        "        else:\n",
        "            y = a[n-2] * alp[n-2] + b[n-1]\n",
        "            bet.append((d[n-1] - a[n-2] * bet[n-2]) / y)\n",
        "\n",
        "    # backwards\n",
        "    for i in reversed(range(n)):\n",
        "      if i == n - 1:\n",
        "        x[n - 1] = bet[n - 1]\n",
        "      else:\n",
        "        x[i] = alp[i] * x[i + 1] + bet[i]\n",
        "    return x\n"
      ],
      "metadata": {
        "id": "14VcRcT3ibqo"
      },
      "execution_count": null,
      "outputs": []
    },
    {
      "cell_type": "code",
      "source": [
        "def generate_diag(n, a, b):\n",
        "  line = [random.uniform(a, b) for i in range(n)]\n",
        "  return line\n",
        "\n",
        "def generate_3d_matrix(n, a, b, c):\n",
        "    m = [[0 for i in range(n)] for j in range(n)]\n",
        "    for i in range(n):\n",
        "      for j in range(n):\n",
        "        if (i == j):\n",
        "          m[i][i] = b[i]\n",
        "          if (i != n - 1):\n",
        "            m[i][i+1] = c[i]\n",
        "            m[i+1][i] = a[i]\n",
        "    return m\n",
        "\n",
        "\n",
        "N = 100\n",
        "x = [1] * N\n",
        "bb = generate_diag(N, 1, 5)\n",
        "aa = generate_diag(N - 1, 1, 5)\n",
        "cc = generate_diag(N - 1, 1, 5)\n",
        "\n",
        "a = generate_3d_matrix(N, aa, bb, cc)\n",
        "# print('\\ngenerated matrix:\\n')\n",
        "# print_matrix(a)\n",
        "# print(f'\\na: {aa}')\n",
        "# print(f'\\nb: {bb}')\n",
        "# print(f'\\nc: {cc}')\n",
        "d = mul_on_vector(a, x)\n",
        "# print(f'\\nf: {d}')\n",
        "\n",
        "A = np.column_stack((a, copy.deepcopy(d)))\n",
        "x_calc = gauss(A)\n",
        "x_prog = progonka(aa, bb, cc, copy.deepcopy(d))\n",
        "x_lib = np.linalg.solve(a, copy.deepcopy(d))\n",
        "\n",
        "\n",
        "# print(f'\\ncorrect x: {x}')\n",
        "# print(f'gauss x: {x_calc}')\n",
        "# print(f'lib x: {x_lib}')\n",
        "# print(f'progonka x: {x_prog}')\n",
        "\n",
        "\n",
        "print(f'\\ngauss: {get_diff(x, x_calc)*100} %')\n",
        "print(f'\\nprogonka: {get_diff(x, x_prog)*100} %')\n",
        "print(f'\\nlib: {get_diff(x, x_lib)*100} %')\n"
      ],
      "metadata": {
        "colab": {
          "base_uri": "https://localhost:8080/"
        },
        "id": "foUywZPmLaE_",
        "outputId": "3b9c6644-e039-4705-ff8d-aa3f3e62da51"
      },
      "execution_count": null,
      "outputs": [
        {
          "output_type": "stream",
          "name": "stdout",
          "text": [
            "\n",
            "gauss: 2.912125998450382e-11 %\n",
            "\n",
            "progonka: 1.0541800008909561e-11 %\n",
            "\n",
            "lib: 4.3259184458356496e-11 %\n"
          ]
        }
      ]
    }
  ]
}