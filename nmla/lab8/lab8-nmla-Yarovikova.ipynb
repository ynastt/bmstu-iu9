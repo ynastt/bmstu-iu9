{
  "nbformat": 4,
  "nbformat_minor": 0,
  "metadata": {
    "colab": {
      "provenance": []
    },
    "kernelspec": {
      "name": "python3",
      "display_name": "Python 3"
    },
    "language_info": {
      "name": "python"
    }
  },
  "cells": [
    {
      "cell_type": "markdown",
      "source": [
        "# Метод Штрассена"
      ],
      "metadata": {
        "id": "lizQg9bGtIrc"
      }
    },
    {
      "cell_type": "code",
      "source": [
        "import numpy as np\n",
        "import matplotlib.pyplot as plt\n",
        "import time\n",
        "from tqdm import tqdm\n",
        "from multiprocessing.pool import ThreadPool as pool\n",
        "\n",
        "def generate_matrix(l, r, n):\n",
        "    a = np.random.uniform(l, r, (n, n))\n",
        "    return a\n",
        "\n",
        "def print_matrix(a):\n",
        "    for i in range(len(a)):\n",
        "        print(a[i])"
      ],
      "metadata": {
        "id": "hbhR4xNhu836"
      },
      "execution_count": 30,
      "outputs": []
    },
    {
      "cell_type": "code",
      "source": [
        "def ordinary_matrix_mul(matrix1, matrix2):\n",
        "    rows_matrix1 = len(matrix1)\n",
        "    cols_matrix1 = len(matrix1[0])\n",
        "    cols_matrix2 = len(matrix2[0])\n",
        "    rows_matrix2 = len(matrix2)\n",
        "\n",
        "    if rows_matrix1 != cols_matrix2:\n",
        "        return f'Ошибка: Не удается умножить матрицы, т.к. несовместимые размеры {rows_matrix1}x{cols_matrix1} и {rows_matrix2}x{cols_matrix2}'\n",
        "    else:\n",
        "        res = []\n",
        "        for i in range(0, rows_matrix1):\n",
        "            tmp = []\n",
        "            for j in range(0, cols_matrix2):\n",
        "                el = 0\n",
        "                for k in range(cols_matrix1):\n",
        "                    el += matrix1[i][k] * matrix2[k][j]\n",
        "                tmp.append(el)\n",
        "            res.append(tmp)\n",
        "        return np.array(res)\n",
        "\n",
        "def matrix_mul(a, b):\n",
        "  n = len(a)\n",
        "  m = len(b[0])\n",
        "  l = len(b)\n",
        "\n",
        "  c = [[0]*n for _ in range(m)]\n",
        "  for i in range(n):\n",
        "    for j in range(m):\n",
        "      for k in range(l):\n",
        "        c[i][j] += a[i][k] * b[k][j]\n",
        "  return np.array(c)"
      ],
      "metadata": {
        "id": "DU7zNGr3te0D"
      },
      "execution_count": 54,
      "outputs": []
    },
    {
      "cell_type": "code",
      "execution_count": 49,
      "metadata": {
        "id": "_xnAbDNTmDC3"
      },
      "outputs": [],
      "source": [
        "def strassen(matrix1, matrix2):\n",
        "  n = len(matrix1)\n",
        "  if n <= 2:\n",
        "    return np.dot(matrix1, matrix2)\n",
        "\n",
        "  mid_row = n // 2\n",
        "  mid_col = len(matrix1[0]) // 2\n",
        "  A11 = matrix1[:mid_row, :mid_col]\n",
        "  A12 = matrix1[:mid_row, mid_col:]\n",
        "  A21 = matrix1[mid_row:, :mid_col]\n",
        "  A22 = matrix1[mid_row:, mid_col:]\n",
        "\n",
        "  mid_row = len(matrix2) // 2\n",
        "  mid_col = len(matrix2[0]) // 2\n",
        "  B11 = matrix2[:mid_row, :mid_col]\n",
        "  B12 = matrix2[:mid_row, mid_col:]\n",
        "  B21 = matrix2[mid_row:, :mid_col]\n",
        "  B22 = matrix2[mid_row:, mid_col:]\n",
        "\n",
        "\n",
        "  P1 = strassen(A11 + A22, B11 + B22)\n",
        "  P2 = strassen(A21 + A22, B11)\n",
        "  P3 = strassen(A11, B12 - B22)\n",
        "  P4 = strassen(A22, B21 - B11)\n",
        "  P5 = strassen(A11 + A12, B22)\n",
        "  P6 = strassen(A21 - A11, B11 + B12)\n",
        "  P7 = strassen(A12 - A22, B21 + B22)\n",
        "\n",
        "  C11 = P1 + P4 - P5 + P7\n",
        "  C12 = P3 + P5\n",
        "  C21 = P2 + P4\n",
        "  C22 = P1 - P2 + P3 + P6\n",
        "  return np.vstack((np.hstack((C11, C12)), np.hstack((C21, C22 ))))"
      ]
    },
    {
      "cell_type": "code",
      "source": [
        "def strassen_multi(matrix1, matrix2):\n",
        "  n = len(matrix1)\n",
        "  if n <= 16:\n",
        "    return np.dot(matrix1, matrix2)\n",
        "\n",
        "  mid_row = n // 2\n",
        "  mid_col = len(matrix1[0]) // 2\n",
        "  A11 = matrix1[:mid_row, :mid_col]\n",
        "  A12 = matrix1[:mid_row, mid_col:]\n",
        "  A21 = matrix1[mid_row:, :mid_col]\n",
        "  A22 = matrix1[mid_row:, mid_col:]\n",
        "\n",
        "  mid_row = len(matrix2) // 2\n",
        "  mid_col = len(matrix2[0]) // 2\n",
        "  B11 = matrix2[:mid_row, :mid_col]\n",
        "  B12 = matrix2[:mid_row, mid_col:]\n",
        "  B21 = matrix2[mid_row:, :mid_col]\n",
        "  B22 = matrix2[mid_row:, mid_col:]\n",
        "\n",
        "  p = pool(processes=7)\n",
        "  P1 = p.apply_async(strassen_multi, (A11 + A22, B11 + B22)).get()\n",
        "  P2 = p.apply_async(strassen_multi, (A21 + A22, B11)).get()\n",
        "  P3 = p.apply_async(strassen_multi, (A11, B12 - B22)).get()\n",
        "  P4 = p.apply_async(strassen_multi, (A22, B21 - B11)).get()\n",
        "  P5 = p.apply_async(strassen_multi, (A11 + A12, B22)).get()\n",
        "  P6 = p.apply_async(strassen_multi, (A21 - A11, B11 + B12)).get()\n",
        "  P7 = p.apply_async(strassen_multi, (A12 - A22, B21 + B22)).get()\n",
        "\n",
        "  C11 = P1 + P4 - P5 + P7\n",
        "  C12 = P3 + P5\n",
        "  C21 = P2 + P4\n",
        "  C22 = P1 - P2 + P3 + P6\n",
        "  return np.vstack((np.hstack((C11, C12)), np.hstack((C21, C22 ))))"
      ],
      "metadata": {
        "id": "cd1vF0_HuuRa"
      },
      "execution_count": 50,
      "outputs": []
    },
    {
      "cell_type": "code",
      "source": [
        "time1 = []\n",
        "time2 = []\n",
        "time3 = []\n",
        "A = generate_matrix(-10, 10, 10)\n",
        "B = generate_matrix(-10, 10, 10)\n",
        "C = ordinary_matrix_mul(A, B)\n",
        "print('\\nordinary AxB:')\n",
        "print_matrix(C)\n",
        "C = strassen(A, B)\n",
        "print('\\nStrassen AxB:')\n",
        "print_matrix(C)\n",
        "C = strassen_multi(A, B)\n",
        "print('\\nStrassen with threads AxB:')\n",
        "print_matrix(C)"
      ],
      "metadata": {
        "colab": {
          "base_uri": "https://localhost:8080/"
        },
        "id": "124k2geiB_er",
        "outputId": "16240f67-841e-4a94-b2b9-7a067937ff9d"
      },
      "execution_count": 33,
      "outputs": [
        {
          "output_type": "stream",
          "name": "stdout",
          "text": [
            "\n",
            "ordinary AxB:\n",
            "[  85.52646901  111.55674736  -57.34243226  169.66884075 -289.3655706\n",
            "   30.75025022   40.62524545  -80.68824598  267.5053464   -58.56111557]\n",
            "[ 146.80642335 -125.29596287  -88.72766516   70.92021073  144.56146566\n",
            "   47.7127086    57.44399958  102.37947772  -92.80487247  -20.54795873]\n",
            "[106.53427876 -14.36886285 -27.98182242 116.93853304   0.97455123\n",
            " 193.64072019 165.2880519  -14.65764283  71.58510084 -69.90789484]\n",
            "[ -44.43347136 -146.18184881   19.28650895  102.60380475  -63.03546471\n",
            "   42.70829487  -39.80645062  172.94913381  133.04516633  -96.85756748]\n",
            "[ 155.40328322 -139.31301974   22.46911015   57.05542287  108.93201582\n",
            "  159.6086969   -32.16195171  -96.09951825  -36.07125362  -79.5355657 ]\n",
            "[  20.39094868  121.90638656  -10.84359144 -138.81039479 -322.87311544\n",
            " -108.78265721   11.66026212  -13.73205108   41.71389026  192.14111199]\n",
            "[-137.67457378   74.67330571   83.03159635   53.29434696 -164.34514576\n",
            " -157.0763711   -65.83764475    8.82252517  -52.49475606  -19.94418008]\n",
            "[-106.16161649  193.92140762 -152.93139613  152.69613176   19.18146304\n",
            " -133.02060114   59.04628548  -13.34532168  -85.81003602   22.88219596]\n",
            "[ -90.5639698   -93.41158033  -10.49426107  -17.92380157  205.27262455\n",
            "   -1.62956644  -18.93306392   86.7707824  -198.12823927   45.79883771]\n",
            "[  59.64435359   -1.73584374 -148.9282767   146.3981501   126.52821723\n",
            "   64.76626183  185.03984383   48.46332978 -198.49554635   61.84182648]\n",
            "\n",
            "Strassen AxB:\n",
            "[  85.52646901  111.55674736  -57.34243226  169.66884075 -289.3655706\n",
            "   30.75025022   40.62524545  -80.68824598  267.5053464   -58.56111557]\n",
            "[ 146.80642335 -125.29596287  -88.72766516   70.92021073  144.56146566\n",
            "   47.7127086    57.44399958  102.37947772  -92.80487247  -20.54795873]\n",
            "[106.53427876 -14.36886285 -27.98182242 116.93853304   0.97455123\n",
            " 193.64072019 165.2880519  -14.65764283  71.58510084 -69.90789484]\n",
            "[ -44.43347136 -146.18184881   19.28650895  102.60380475  -63.03546471\n",
            "   42.70829487  -39.80645062  172.94913381  133.04516633  -96.85756748]\n",
            "[ 155.40328322 -139.31301974   22.46911015   57.05542287  108.93201582\n",
            "  159.6086969   -32.16195171  -96.09951825  -36.07125362  -79.5355657 ]\n",
            "[  20.39094868  121.90638656  -10.84359144 -138.81039479 -322.87311544\n",
            " -108.78265721   11.66026212  -13.73205108   41.71389026  192.14111199]\n",
            "[-137.67457378   74.67330571   83.03159635   53.29434696 -164.34514576\n",
            " -157.0763711   -65.83764475    8.82252517  -52.49475606  -19.94418008]\n",
            "[-106.16161649  193.92140762 -152.93139613  152.69613176   19.18146304\n",
            " -133.02060114   59.04628548  -13.34532168  -85.81003602   22.88219596]\n",
            "[ -90.5639698   -93.41158033  -10.49426107  -17.92380157  205.27262455\n",
            "   -1.62956644  -18.93306392   86.7707824  -198.12823927   45.79883771]\n",
            "[  59.64435359   -1.73584374 -148.9282767   146.3981501   126.52821723\n",
            "   64.76626183  185.03984383   48.46332978 -198.49554635   61.84182648]\n",
            "\n",
            "Strassen with threads AxB:\n",
            "[  85.52646901  111.55674736  -57.34243226  169.66884075 -289.3655706\n",
            "   30.75025022   40.62524545  -80.68824598  267.5053464   -58.56111557]\n",
            "[ 146.80642335 -125.29596287  -88.72766516   70.92021073  144.56146566\n",
            "   47.7127086    57.44399958  102.37947772  -92.80487247  -20.54795873]\n",
            "[106.53427876 -14.36886285 -27.98182242 116.93853304   0.97455123\n",
            " 193.64072019 165.2880519  -14.65764283  71.58510084 -69.90789484]\n",
            "[ -44.43347136 -146.18184881   19.28650895  102.60380475  -63.03546471\n",
            "   42.70829487  -39.80645062  172.94913381  133.04516633  -96.85756748]\n",
            "[ 155.40328322 -139.31301974   22.46911015   57.05542287  108.93201582\n",
            "  159.6086969   -32.16195171  -96.09951825  -36.07125362  -79.5355657 ]\n",
            "[  20.39094868  121.90638656  -10.84359144 -138.81039479 -322.87311544\n",
            " -108.78265721   11.66026212  -13.73205108   41.71389026  192.14111199]\n",
            "[-137.67457378   74.67330571   83.03159635   53.29434696 -164.34514576\n",
            " -157.0763711   -65.83764475    8.82252517  -52.49475606  -19.94418008]\n",
            "[-106.16161649  193.92140762 -152.93139613  152.69613176   19.18146304\n",
            " -133.02060114   59.04628548  -13.34532168  -85.81003602   22.88219596]\n",
            "[ -90.5639698   -93.41158033  -10.49426107  -17.92380157  205.27262455\n",
            "   -1.62956644  -18.93306392   86.7707824  -198.12823927   45.79883771]\n",
            "[  59.64435359   -1.73584374 -148.9282767   146.3981501   126.52821723\n",
            "   64.76626183  185.03984383   48.46332978 -198.49554635   61.84182648]\n"
          ]
        }
      ]
    },
    {
      "cell_type": "code",
      "source": [
        "n = [2**i for i in range(1, 10)]\n",
        "time1 = []\n",
        "time2 = []\n",
        "time3 = []\n",
        "\n",
        "for dim in n:\n",
        "  A = generate_matrix(-10, 10, dim)\n",
        "  B = generate_matrix(-10, 10, dim)\n",
        "  t = time.time()\n",
        "  C = matrix_mul(A, B)\n",
        "  tt = time.time()\n",
        "  time1.append(tt - t)\n",
        "\n",
        "  t = time.time()\n",
        "  C = strassen(A, B)\n",
        "  tt = time.time()\n",
        "  time2.append(tt - t)\n",
        "\n",
        "  t = time.time()\n",
        "  C = strassen_multi(A, B)\n",
        "  tt = time.time()\n",
        "  time3.append(tt - t)\n",
        "\n",
        "plt.title('Зависимость времени от размера матрицы')\n",
        "plt.xlabel('n')\n",
        "plt.ylabel('time')\n",
        "plt.plot(n, time1, color='red', label='Ordinary')\n",
        "plt.plot(n, time2, color='green', label='Strassen')\n",
        "plt.plot(n, time3, color='blue', label='Strassen multiprocess')\n",
        "plt.grid()\n",
        "plt.legend()\n",
        "plt.show()"
      ],
      "metadata": {
        "colab": {
          "base_uri": "https://localhost:8080/",
          "height": 472
        },
        "id": "LpmEY3_uF-M4",
        "outputId": "06e15e64-fcd5-4692-8f25-492d33de9991"
      },
      "execution_count": 55,
      "outputs": [
        {
          "output_type": "display_data",
          "data": {
            "text/plain": [
              "<Figure size 640x480 with 1 Axes>"
            ],
            "image/png": "[encoded data removed]"
          },
          "metadata": {}
        }
      ]
    }
  ]
}