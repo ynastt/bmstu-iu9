{
  "nbformat": 4,
  "nbformat_minor": 0,
  "metadata": {
    "colab": {
      "provenance": []
    },
    "kernelspec": {
      "name": "python3",
      "display_name": "Python 3"
    },
    "language_info": {
      "name": "python"
    }
  },
  "cells": [
    {
      "cell_type": "markdown",
      "source": [
        "lab7 - Разложение Холецкого, LU-разложение"
      ],
      "metadata": {
        "id": "edTS_EaNjjYJ"
      }
    },
    {
      "cell_type": "markdown",
      "source": [
        "Вспомогательные функции"
      ],
      "metadata": {
        "id": "03pCIieZ1rVk"
      }
    },
    {
      "cell_type": "code",
      "source": [
        "import numpy as np\n",
        "from copy import deepcopy\n",
        "import matplotlib.pyplot as plt\n",
        "import sys\n",
        "\n",
        "# согласованная матричная норма\n",
        "def matrix_norm(matrix):\n",
        "  sum = 0\n",
        "  for i in range(len(matrix)):\n",
        "    sum += abs(matrix[i])\n",
        "  return max(sum)\n",
        "\n",
        "def generate_symmetrical_matrix(l, r, n):\n",
        "    a = np.random.uniform(l, r, (n, n))\n",
        "    a = np.tril(a) + np.tril(a, -1).T\n",
        "    return a\n",
        "\n",
        "def increase_diag_elems(a, diag):\n",
        "    n = len(a)\n",
        "    for i in range(0, len(a)):\n",
        "        a[i][i] = diag * sum(abs(a[i][j]) if j != i else 0 for j in range(n))\n",
        "    return a\n",
        "\n",
        "# Вычисляем диагональное преобладание\n",
        "# Проверить выполнение условия диагонального преобладания\n",
        "def calc_diagonal_dominance(a):\n",
        "  degree = max(abs(a[i][i]) - sum(abs(a[i][j]) if j != i else 0 for j in range(len(a))) for i in range(len(a)))\n",
        "  return degree > 0"
      ],
      "metadata": {
        "id": "ohNJfSYi1q-f"
      },
      "execution_count": 36,
      "outputs": []
    },
    {
      "cell_type": "code",
      "execution_count": 40,
      "metadata": {
        "id": "2K6DFEHkjfIO"
      },
      "outputs": [],
      "source": [
        "def cholesky(A):\n",
        "    # A = L L^T\n",
        "    n = len(A)\n",
        "    L = np.zeros_like(A)\n",
        "\n",
        "    L[0][0] = np.sqrt(A[0][0])\n",
        "\n",
        "    for i in range(1, n):\n",
        "        for j in range(i):\n",
        "            s = sum(L[i][p] * L[j][p] for p in range(j))\n",
        "            L[i][j] = (A[i][j] - s) / L[j][j]\n",
        "        L[i][i] = np.sqrt(A[i][i] - sum(L[i][p] ** 2 for p in range(i)))\n",
        "    return np.array(L)"
      ]
    },
    {
      "cell_type": "markdown",
      "source": [
        "LU разложение"
      ],
      "metadata": {
        "id": "UElv2Y7fAI5-"
      }
    },
    {
      "cell_type": "code",
      "source": [
        "def LU(A):\n",
        "    # A = L * U\n",
        "    n = len(A)\n",
        "    L, U = np.zeros_like(A), np.zeros_like(A)\n",
        "    for i in range(n): L[i][i] = 1.0\n",
        "\n",
        "    for i in range(n):\n",
        "        for j in range(n):\n",
        "            if i <= j:\n",
        "                s = sum(L[i][k] * U[k][j] for k in range(i))\n",
        "                U[i][j] = A[i][j] - s\n",
        "            elif i > j:\n",
        "                s = sum(L[i][k] * U[k][j] for k in range(j))\n",
        "                L[i][j] = (A[i][j] - s) / U[j][j]\n",
        "    return L, U"
      ],
      "metadata": {
        "id": "MgELysaiAKrI"
      },
      "execution_count": 41,
      "outputs": []
    },
    {
      "cell_type": "markdown",
      "source": [
        "Тестирование. Сравнение погрешностей, используя матричные нормы"
      ],
      "metadata": {
        "id": "ElYpP6m1gbqA"
      }
    },
    {
      "cell_type": "code",
      "source": [
        "n = 3\n",
        "A = generate_symmetrical_matrix(10, 40, n)\n",
        "A = increase_diag_elems(A, 3)\n",
        "print(f'matrix A:\\n{A}\\n')\n",
        "# Holetski\n",
        "L = cholesky(A)\n",
        "LT = L.T\n",
        "print(f'matrix L:\\n{L}\\n')\n",
        "print(f'matrix L^T:\\n{LT}\\n')\n",
        "print(f'matrix L * L^T:\\n{L @ LT}\\n')\n",
        "holetsky_err = matrix_norm(A - L @ L.T)\n",
        "print('------------------------------------------')\n",
        "# LU\n",
        "L, U = LU(A)\n",
        "print(f'matrix L:\\n{L}\\n')\n",
        "print(f'matrix U:\\n{U}\\n')\n",
        "print(f'matrix L*U:\\n{L @ U}\\n')\n",
        "lu_err = matrix_norm(A - L @ U)\n",
        "print(f'Holetski decomposition error: {holetsky_err}\\n')\n",
        "print(f'LU decomposition error: {lu_err}\\n')"
      ],
      "metadata": {
        "colab": {
          "base_uri": "https://localhost:8080/"
        },
        "id": "owhqt8wgg7DL",
        "outputId": "a59d4376-207f-495b-bf35-20f5fa138c89"
      },
      "execution_count": 46,
      "outputs": [
        {
          "output_type": "stream",
          "name": "stdout",
          "text": [
            "matrix A:\n",
            "[[147.88380495  21.91191064  27.38269101]\n",
            " [ 21.91191064 174.45481911  36.23969573]\n",
            " [ 27.38269101  36.23969573 190.86716023]]\n",
            "\n",
            "matrix L:\n",
            "[[12.16074854  0.          0.        ]\n",
            " [ 1.80185542 13.0846527   0.        ]\n",
            " [ 2.25172743  2.45955389 13.40699364]]\n",
            "\n",
            "matrix L^T:\n",
            "[[12.16074854  1.80185542  2.25172743]\n",
            " [ 0.         13.0846527   2.45955389]\n",
            " [ 0.          0.         13.40699364]]\n",
            "\n",
            "matrix L * L^T:\n",
            "[[147.88380495  21.91191064  27.38269101]\n",
            " [ 21.91191064 174.45481911  36.23969573]\n",
            " [ 27.38269101  36.23969573 190.86716023]]\n",
            "\n",
            "------------------------------------------\n",
            "matrix L:\n",
            "[[1.         0.         0.        ]\n",
            " [0.14816978 1.         0.        ]\n",
            " [0.18516355 0.18797242 1.        ]]\n",
            "\n",
            "matrix U:\n",
            "[[147.88380495  21.91191064  27.38269101]\n",
            " [  0.         171.20813616  32.18240847]\n",
            " [  0.           0.         179.74747847]]\n",
            "\n",
            "matrix L*U:\n",
            "[[147.88380495  21.91191064  27.38269101]\n",
            " [ 21.91191064 174.45481911  36.23969573]\n",
            " [ 27.38269101  36.23969573 190.86716023]]\n",
            "\n",
            "Holetski decomposition error: 2.842170943040401e-14\n",
            "\n",
            "LU decomposition error: 3.552713678800501e-15\n",
            "\n"
          ]
        }
      ]
    },
    {
      "cell_type": "markdown",
      "source": [],
      "metadata": {
        "id": "CT8Jn_6XlczI"
      }
    }
  ]
}